{
 "cells": [
  {
   "cell_type": "code",
   "execution_count": 1,
   "metadata": {
    "collapsed": true
   },
   "outputs": [],
   "source": [
    "import time\n",
    "from ccd.procedures import fit_procedure as __determine_fit_procedure\n",
    "import numpy as np\n",
    "import pandas as pd\n",
    "from ccd import app, math_utils, qa, __check_inputs, __sort_dates, attr_from_str\n",
    "from datetime import datetime\n",
    "import importlib\n",
    "\n",
    "import timeit\n",
    "\n",
    "from test.shared import rainbow"
   ]
  },
  {
   "cell_type": "code",
   "execution_count": 2,
   "metadata": {
    "collapsed": true
   },
   "outputs": [],
   "source": [
    "requested_ubids = ['LANDSAT_4/TM/SRB1', 'LANDSAT_4/TM/SRB2', 'LANDSAT_4/TM/SRB3', 'LANDSAT_4/TM/SRB4', 'LANDSAT_4/TM/SRB5', 'LANDSAT_4/TM/BTB6', 'LANDSAT_4/TM/SRB7', 'LANDSAT_4/TM/PIXELQA', 'LANDSAT_5/TM/SRB1', 'LANDSAT_5/TM/SRB2', 'LANDSAT_5/TM/SRB3', 'LANDSAT_5/TM/SRB4', 'LANDSAT_5/TM/SRB5', 'LANDSAT_5/TM/BTB6', 'LANDSAT_5/TM/SRB7', 'LANDSAT_5/TM/PIXELQA', 'LANDSAT_7/ETM/SRB1', 'LANDSAT_7/ETM/SRB2', 'LANDSAT_7/ETM/SRB3', 'LANDSAT_7/ETM/SRB4', 'LANDSAT_7/ETM/SRB5', 'LANDSAT_7/ETM/BTB6', 'LANDSAT_7/ETM/SRB7', 'LANDSAT_7/ETM/PIXELQA', 'LANDSAT_8/OLI_TIRS/SRB2', 'LANDSAT_8/OLI_TIRS/SRB3', 'LANDSAT_8/OLI_TIRS/SRB4', 'LANDSAT_8/OLI_TIRS/SRB5', 'LANDSAT_8/OLI_TIRS/SRB6', 'LANDSAT_8/OLI_TIRS/SRB7', 'LANDSAT_8/OLI_TIRS/BTB10', 'LANDSAT_8/OLI_TIRS/PIXELQA']\n",
    "specs_url  = 'foo'\n",
    "chips_url  = 'bar'\n",
    "acquired   = '1982-01-01/2015-12-31'\n",
    "x, y       = -2094585, 1682805\n",
    "xind, yind = 57, 97\n",
    "row, col   = yind, xind"
   ]
  },
  {
   "cell_type": "code",
   "execution_count": 3,
   "metadata": {
    "collapsed": true
   },
   "outputs": [],
   "source": [
    "rbow = rainbow(x, y, acquired, specs_url, chips_url, requested_ubids)"
   ]
  },
  {
   "cell_type": "code",
   "execution_count": 4,
   "metadata": {},
   "outputs": [
    {
     "data": {
      "text/plain": [
       "<xarray.Dataset>\n",
       "Dimensions:  (t: 2809, x: 100, y: 100)\n",
       "Coordinates:\n",
       "  * t        (t) object '1982-11-15T18:01:50Z' '1982-11-24T17:55:58Z' ...\n",
       "Dimensions without coordinates: x, y\n",
       "Data variables:\n",
       "    red      (t, x, y) float64 6.721e+03 6.766e+03 6.721e+03 6.632e+03 ...\n",
       "    nir      (t, x, y) float64 6.73e+03 6.73e+03 6.676e+03 6.676e+03 ...\n",
       "    thermal  (t, x, y) float64 2.484e+03 2.484e+03 2.484e+03 2.484e+03 ...\n",
       "    green    (t, x, y) float64 6.653e+03 6.705e+03 6.653e+03 6.551e+03 ...\n",
       "    swir2    (t, x, y) float64 3.457e+03 3.348e+03 3.457e+03 3.348e+03 ...\n",
       "    cfmask   (t, x, y) object 224 224 224 224 224 224 224 224 224 224 224 ...\n",
       "    swir1    (t, x, y) float64 4.398e+03 4.398e+03 4.435e+03 4.398e+03 ...\n",
       "    blue     (t, x, y) float64 2e+04 2e+04 2e+04 2e+04 2e+04 2e+04 2e+04 ..."
      ]
     },
     "execution_count": 4,
     "metadata": {},
     "output_type": "execute_result"
    }
   ],
   "source": [
    "rbow"
   ]
  },
  {
   "cell_type": "code",
   "execution_count": 4,
   "metadata": {
    "collapsed": true
   },
   "outputs": [],
   "source": [
    "proc_params = app.get_default_params()"
   ]
  },
  {
   "cell_type": "code",
   "execution_count": 5,
   "metadata": {
    "collapsed": true
   },
   "outputs": [],
   "source": [
    "# dates\n",
    "def dtstr_to_ordinal(dtstr, iso=True):\n",
    "    \"\"\" Return ordinal from string formatted date\"\"\"\n",
    "    _fmt = '%Y-%m-%dT%H:%M:%SZ' if iso else '%Y-%m-%d %H:%M:%S'\n",
    "    _dt = datetime.strptime(dtstr, _fmt)\n",
    "    return _dt.toordinal()\n",
    "\n",
    "\n",
    "rainbow_date_array = np.array(rbow['t'].values)\n",
    "_dates = [dtstr_to_ordinal(str(pd.to_datetime(i)), False) for i in rainbow_date_array]\n",
    "\n",
    "# date handling with ccd.__init__::detect\n",
    "dates = np.asarray(_dates)"
   ]
  },
  {
   "cell_type": "code",
   "execution_count": 6,
   "metadata": {
    "collapsed": true
   },
   "outputs": [],
   "source": [
    "# quality\n",
    "_quality = np.array(rbow['cfmask'].values[:, row, col], dtype=int)\n",
    "\n",
    "# quality handling with ccd.__init__::detect\n",
    "quality = np.asarray(_quality)"
   ]
  },
  {
   "cell_type": "code",
   "execution_count": 7,
   "metadata": {
    "collapsed": true
   },
   "outputs": [],
   "source": [
    "# how bands passed to ccd.detect()\n",
    "blue    = np.array(rbow['blue'].values[:, row, col])\n",
    "green   = np.array(rbow['green'].values[:, row, col])\n",
    "red     = np.array(rbow['red'].values[:, row, col])\n",
    "nir     = np.array(rbow['nir'].values[:, row, col])\n",
    "swir1   = np.array(rbow['swir1'].values[:, row, col])\n",
    "swir2   = np.array(rbow['swir2'].values[:, row, col])\n",
    "thermal = np.array(rbow['thermal'].values[:, row, col])\n",
    "\n",
    "# how bands org'd within ccd.__init__::detect\n",
    "spectra = np.stack((blue, green, red, nir, swir1, swir2, thermal))"
   ]
  },
  {
   "cell_type": "code",
   "execution_count": 9,
   "metadata": {
    "collapsed": true
   },
   "outputs": [],
   "source": [
    "# input validation in ccd.__init__::detect\n",
    "__check_inputs(dates, quality, spectra)"
   ]
  },
  {
   "cell_type": "code",
   "execution_count": 9,
   "metadata": {
    "collapsed": true
   },
   "outputs": [],
   "source": [
    "# variable assignment in ccd.__init__::detect\n",
    "indices = __sort_dates(dates)\n",
    "dates   = dates[indices]\n",
    "spectra = spectra[:, indices]\n",
    "quality = quality[indices]"
   ]
  },
  {
   "cell_type": "code",
   "execution_count": 12,
   "metadata": {},
   "outputs": [
    {
     "name": "stdout",
     "output_type": "stream",
     "text": [
      "seconds to run: 0.00055\n",
      "<function standard_procedure at 0x7f6bcaea3730>\n"
     ]
    }
   ],
   "source": [
    "# how ccd.__init__::detect determines which procedure to use\n",
    "t1 = datetime.now()\n",
    "procedure = __determine_fit_procedure(quality, proc_params)\n",
    "print(\"seconds to run: {}\".format((datetime.now() - t1).total_seconds()))\n",
    "print(procedure)"
   ]
  },
  {
   "cell_type": "code",
   "execution_count": 14,
   "metadata": {},
   "outputs": [
    {
     "name": "stderr",
     "output_type": "stream",
     "text": [
      "/home/cgaustin/miniconda2/envs/ccd35/lib/python3.5/site-packages/sklearn/linear_model/coordinate_descent.py:484: ConvergenceWarning: Objective did not converge. You might want to increase the number of iterations. Fitting data with very small alpha may cause precision problems.\n",
      "  ConvergenceWarning)\n"
     ]
    },
    {
     "name": "stdout",
     "output_type": "stream",
     "text": [
      "2.777985084001557\n"
     ]
    }
   ],
   "source": [
    "#t1 = datetime.now()\n",
    "#results = procedure(dates, spectra, fitter_fn, quality, proc_params)\n",
    "#print(\"seconds to run: {}\".format((datetime.now() - t1).total_seconds()))\n",
    "print(timeit.timeit(\"procedure(dates, spectra, fitter_fn, quality, proc_params)\", globals=globals(), number=3))"
   ]
  },
  {
   "cell_type": "code",
   "execution_count": null,
   "metadata": {
    "collapsed": true
   },
   "outputs": [],
   "source": []
  }
 ],
 "metadata": {
  "kernelspec": {
   "display_name": "Python 3",
   "language": "python",
   "name": "python3"
  },
  "language_info": {
   "codemirror_mode": {
    "name": "ipython",
    "version": 3
   },
   "file_extension": ".py",
   "mimetype": "text/x-python",
   "name": "python",
   "nbconvert_exporter": "python",
   "pygments_lexer": "ipython3",
   "version": "3.5.3"
  }
 },
 "nbformat": 4,
 "nbformat_minor": 2
}
