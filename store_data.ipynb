{
 "cells": [
  {
   "cell_type": "code",
   "execution_count": 1,
   "metadata": {},
   "outputs": [
    {
     "name": "stdout",
     "output_type": "stream",
     "text": [
      "took: 48.708338\n"
     ]
    }
   ],
   "source": [
    "import json, os\n",
    "import numpy as np\n",
    "import pandas as pd\n",
    "from datetime import datetime\n",
    "from test.shared import snap, rainbow\n",
    "\n",
    "import functools\n",
    "\n",
    "from numba import jit\n",
    "# detect results for x, y: -2094435, 1681005 took 2.455234 seconds to generate  VERIFIED 2.6 seconds locally\n",
    "# detect results for x, y: -2033595, 1685955 took 1.879693 seconds to generate\n",
    "# detect results for x, y: -2098875, 1694895 took 0.986887 seconds to generate  VERIFIED 1.8 seconds locally\n",
    "pixl_x, pixl_y = -2094435, 1681005\n",
    "pixl_x, pixl_y = -2098875, 1694895\n",
    "\n",
    "inputs_url = \"https://lcmaphost.com?x={x}&y={y}&acquired=1982-01-01/2015-12-31\\\n",
    "&ubid=LANDSAT_4/TM/SRB1&ubid=LANDSAT_4/TM/SRB2&ubid=LANDSAT_4/TM/SRB3&ubid=LANDSAT_4/TM/SRB4\\\n",
    "&ubid=LANDSAT_4/TM/SRB5&ubid=LANDSAT_4/TM/BTB6&ubid=LANDSAT_4/TM/SRB7&ubid=LANDSAT_4/TM/PIXELQA\\\n",
    "&ubid=LANDSAT_5/TM/SRB1&ubid=LANDSAT_5/TM/SRB2&ubid=LANDSAT_5/TM/SRB3&ubid=LANDSAT_5/TM/SRB4\\\n",
    "&ubid=LANDSAT_5/TM/SRB5&ubid=LANDSAT_5/TM/BTB6&ubid=LANDSAT_5/TM/SRB7&ubid=LANDSAT_5/TM/PIXELQA\\\n",
    "&ubid=LANDSAT_7/ETM/SRB1&ubid=LANDSAT_7/ETM/SRB2&ubid=LANDSAT_7/ETM/SRB3&ubid=LANDSAT_7/ETM/SRB4\\\n",
    "&ubid=LANDSAT_7/ETM/SRB5&ubid=LANDSAT_7/ETM/BTB6&ubid=LANDSAT_7/ETM/SRB7&ubid=LANDSAT_7/ETM/PIXELQA\\\n",
    "&ubid=LANDSAT_8/OLI_TIRS/SRB2&ubid=LANDSAT_8/OLI_TIRS/SRB3&ubid=LANDSAT_8/OLI_TIRS/SRB4&ubid=LANDSAT_8/OLI_TIRS/SRB5\\\n",
    "&ubid=LANDSAT_8/OLI_TIRS/SRB6&ubid=LANDSAT_8/OLI_TIRS/SRB7&ubid=LANDSAT_8/OLI_TIRS/BTB10\\\n",
    "&ubid=LANDSAT_8/OLI_TIRS/PIXELQA\".format(x=pixl_x, y=pixl_y)\n",
    "\n",
    "dates           = [i.split('=')[1] for i in inputs_url.split('&') if 'acquired=' in i][0]\n",
    "chips_url       = inputs_url.split('?')[0]\n",
    "specs_url       = chips_url.replace('/chips', '/chip-specs')\n",
    "querystr_list   = inputs_url.split('?')[1].split('&')\n",
    "requested_ubids = tuple([i.replace('ubid=', '') for i in querystr_list if 'ubid=' in i])\n",
    "\n",
    "# get chip id\n",
    "chip_x, chip_y = snap(pixl_x, pixl_y)\n",
    "xindex = int((pixl_x - chip_x) / 30)\n",
    "yindex = int((chip_y - pixl_y) / 30)\n",
    "_start = datetime.now()\n",
    "rbow = rainbow(-2094585, 1682805, dates, specs_url, chips_url, requested_ubids)\n",
    "print(\"took: {}\".format((datetime.now() - _start).total_seconds()))\n",
    "\n",
    "#@jit\n",
    "def dtstr_to_ordinal(dtstr, iso=True):\n",
    "    \"\"\" Return ordinal from string formatted date\"\"\"\n",
    "    _fmt = '%Y-%m-%dT%H:%M:%SZ' if iso else '%Y-%m-%d %H:%M:%S'\n",
    "    _dt = datetime.strptime(dtstr, _fmt)\n",
    "    return _dt.toordinal()"
   ]
  },
  {
   "cell_type": "code",
   "execution_count": 2,
   "metadata": {
    "collapsed": true
   },
   "outputs": [],
   "source": [
    "#%load_ext autoreload\n",
    "#%autoreload 2\n",
    "import ccd"
   ]
  },
  {
   "cell_type": "code",
   "execution_count": 4,
   "metadata": {},
   "outputs": [
    {
     "name": "stdout",
     "output_type": "stream",
     "text": [
      "took: 2.25034\n"
     ]
    },
    {
     "name": "stderr",
     "output_type": "stream",
     "text": [
      "/home/cgaustin/miniconda2/envs/ccd35/lib/python3.5/site-packages/sklearn/linear_model/coordinate_descent.py:484: ConvergenceWarning: Objective did not converge. You might want to increase the number of iterations. Fitting data with very small alpha may cause precision problems.\n",
      "  ConvergenceWarning)\n"
     ]
    }
   ],
   "source": [
    "row, col = yindex, xindex\n",
    "rainbow_date_array = np.array(rbow['t'].values)\n",
    "_start = datetime.now()\n",
    "result =  ccd.detect([dtstr_to_ordinal(str(pd.to_datetime(i)), False) for i in rainbow_date_array],\n",
    "                     np.array(rbow['blue'].values[:, row, col]),\n",
    "                     np.array(rbow['green'].values[:, row, col]),\n",
    "                     np.array(rbow['red'].values[:, row, col]),\n",
    "                     np.array(rbow['nir'].values[:, row, col]),\n",
    "                     np.array(rbow['swir1'].values[:, row, col]),\n",
    "                     np.array(rbow['swir2'].values[:, row, col]),\n",
    "                     np.array(rbow['thermal'].values[:, row, col]),\n",
    "                     np.array(rbow['cfmask'].values[:, row, col], dtype=int),\n",
    "                     params={})\n",
    "print(\"took: {}\".format((datetime.now() - _start).total_seconds()))"
   ]
  },
  {
   "cell_type": "code",
   "execution_count": 3,
   "metadata": {},
   "outputs": [
    {
     "name": "stdout",
     "output_type": "stream",
     "text": [
      "0/0 took 1.500575 seconds\n",
      "0/1 took 1.459596 seconds\n",
      "0/2 took 1.320492 seconds\n",
      "0/3 took 1.236148 seconds\n",
      "0/4 took 1.4423 seconds\n",
      "0/5 took 1.358808 seconds\n",
      "0/6 took 1.284843 seconds\n",
      "0/7 took 1.315255 seconds\n",
      "0/8 took 1.351434 seconds\n",
      "0/9 took 1.218659 seconds\n",
      "0/10 took 1.202871 seconds\n",
      "0/11 took 1.198043 seconds\n",
      "0/12 took 1.306264 seconds\n",
      "0/13 took 1.316896 seconds\n",
      "0/14 took 1.720067 seconds\n",
      "0/15 took 1.480137 seconds\n",
      "0/16 took 1.23927 seconds\n",
      "0/17 took 1.369414 seconds\n",
      "0/18 took 1.270966 seconds\n",
      "0/19 took 1.408977 seconds\n",
      "0/20 took 1.357841 seconds\n",
      "0/21 took 1.488253 seconds\n",
      "0/22 took 1.764303 seconds\n",
      "0/23 took 1.644405 seconds\n",
      "0/24 took 1.454521 seconds\n",
      "0/25 took 1.906874 seconds\n",
      "0/26 took 1.658148 seconds\n",
      "0/27 took 1.67011 seconds\n",
      "0/28 took 1.286439 seconds\n",
      "0/29 took 1.257498 seconds\n",
      "0/30 took 1.404985 seconds\n",
      "0/31 took 1.846229 seconds\n",
      "0/32 took 1.60243 seconds\n",
      "0/33 took 1.671427 seconds\n",
      "0/34 took 1.592139 seconds\n",
      "0/35 took 1.41534 seconds\n",
      "0/36 took 1.511063 seconds\n",
      "0/37 took 1.173858 seconds\n",
      "0/38 took 1.419376 seconds\n",
      "0/39 took 1.499584 seconds\n",
      "0/40 took 1.484401 seconds\n",
      "0/41 took 1.515072 seconds\n",
      "0/42 took 1.583355 seconds\n",
      "0/43 took 1.727067 seconds\n",
      "0/44 took 1.569245 seconds\n",
      "0/45 took 1.645852 seconds\n",
      "0/46 took 1.367108 seconds\n",
      "0/47 took 1.718629 seconds\n",
      "0/48 took 1.410669 seconds\n",
      "0/49 took 1.812437 seconds\n",
      "0/50 took 1.574984 seconds\n",
      "0/51 took 1.54312 seconds\n",
      "0/52 took 1.859363 seconds\n",
      "0/53 took 1.525221 seconds\n",
      "0/54 took 1.572038 seconds\n",
      "0/55 took 1.575684 seconds\n",
      "0/56 took 1.817057 seconds\n",
      "0/57 took 1.518621 seconds\n",
      "0/58 took 1.623811 seconds\n",
      "0/59 took 1.517226 seconds\n",
      "0/60 took 1.446862 seconds\n",
      "0/61 took 1.563616 seconds\n",
      "0/62 took 1.313786 seconds\n",
      "0/63 took 1.403948 seconds\n",
      "0/64 took 1.446616 seconds\n",
      "0/65 took 1.624909 seconds\n",
      "0/66 took 1.335074 seconds\n",
      "0/67 took 1.683782 seconds\n",
      "0/68 took 1.370952 seconds\n",
      "0/69 took 1.225271 seconds\n",
      "0/70 took 1.039381 seconds\n",
      "0/71 took 1.229805 seconds\n",
      "0/72 took 1.54756 seconds\n",
      "0/73 took 1.475933 seconds\n",
      "0/74 took 1.268561 seconds\n",
      "0/75 took 1.39137 seconds\n",
      "0/76 took 1.553349 seconds\n",
      "0/77 took 1.813754 seconds\n",
      "0/78 took 1.648795 seconds\n",
      "0/79 took 1.686432 seconds\n",
      "0/80 took 1.451931 seconds\n",
      "0/81 took 1.633445 seconds\n",
      "0/82 took 1.448345 seconds\n",
      "0/83 took 1.822331 seconds\n",
      "0/84 took 1.553319 seconds\n",
      "0/85 took 1.330061 seconds\n",
      "0/86 took 1.731031 seconds\n",
      "0/87 took 2.265438 seconds\n",
      "0/88 took 1.941668 seconds\n",
      "0/89 took 2.012054 seconds\n",
      "0/90 took 1.624279 seconds\n",
      "0/91 took 1.645834 seconds\n",
      "0/92 took 1.536188 seconds\n",
      "0/93 took 1.542139 seconds\n",
      "0/94 took 1.498849 seconds\n",
      "0/95 took 1.626256 seconds\n",
      "0/96 took 1.850394 seconds\n",
      "0/97 took 1.6418 seconds\n",
      "0/98 took 1.519151 seconds\n",
      "0/99 took 1.576104 seconds\n",
      "1/0 took 1.506265 seconds\n",
      "1/1 took 1.526548 seconds\n",
      "1/2 took 1.467552 seconds\n",
      "1/3 took 1.327472 seconds\n",
      "1/4 took 1.339347 seconds\n",
      "1/5 took 1.315003 seconds\n",
      "1/6 took 1.526523 seconds\n",
      "1/7 took 1.266631 seconds\n",
      "1/8 took 1.220177 seconds\n",
      "1/9 took 1.408984 seconds\n",
      "1/10 took 1.371013 seconds\n",
      "1/11 took 1.156679 seconds\n",
      "1/12 took 1.1247 seconds\n",
      "1/13 took 0.998813 seconds\n",
      "1/14 took 1.196491 seconds\n",
      "1/15 took 1.261089 seconds\n",
      "1/16 took 1.49523 seconds\n",
      "1/17 took 1.081084 seconds\n",
      "1/18 took 1.438585 seconds\n",
      "1/19 took 1.185881 seconds\n",
      "1/20 took 1.42284 seconds\n",
      "1/21 took 1.354555 seconds\n",
      "1/22 took 1.583606 seconds\n",
      "1/23 took 1.487749 seconds\n",
      "1/24 took 1.571185 seconds\n",
      "1/25 took 1.393575 seconds\n",
      "1/26 took 1.700844 seconds\n",
      "1/27 took 1.547185 seconds\n",
      "1/28 took 1.489756 seconds\n",
      "1/29 took 1.174135 seconds\n",
      "1/30 took 0.9941 seconds\n",
      "1/31 took 1.652317 seconds\n",
      "1/32 took 1.740956 seconds\n",
      "1/33 took 1.584649 seconds\n",
      "1/34 took 1.72676 seconds\n",
      "1/35 took 1.661703 seconds\n",
      "1/36 took 1.363227 seconds\n",
      "1/37 took 1.39252 seconds\n",
      "1/38 took 1.383484 seconds\n",
      "1/39 took 1.484503 seconds\n",
      "1/40 took 1.460959 seconds\n",
      "1/41 took 1.340064 seconds\n",
      "1/42 took 1.493064 seconds\n",
      "1/43 took 1.612742 seconds\n",
      "1/44 took 1.430546 seconds\n",
      "1/45 took 1.392092 seconds\n",
      "1/46 took 1.455198 seconds\n",
      "1/47 took 1.685602 seconds\n",
      "1/48 took 1.488994 seconds\n",
      "1/49 took 1.517854 seconds\n",
      "1/50 took 1.40832 seconds\n",
      "1/51 took 1.452532 seconds\n",
      "1/52 took 1.290893 seconds\n",
      "1/53 took 1.452682 seconds\n",
      "1/54 took 1.613441 seconds\n",
      "1/55 took 1.692462 seconds\n",
      "1/56 took 1.515419 seconds\n",
      "1/57 took 1.583429 seconds\n",
      "1/58 took 1.41328 seconds\n",
      "1/59 took 1.521687 seconds\n",
      "1/60 took 1.581966 seconds\n",
      "1/61 took 1.459665 seconds\n",
      "1/62 took 1.630809 seconds\n",
      "1/63 took 1.687218 seconds\n",
      "1/64 took 1.600136 seconds\n",
      "1/65 took 1.48143 seconds\n",
      "1/66 took 1.408296 seconds\n",
      "1/67 took 1.455312 seconds\n",
      "1/68 took 1.587348 seconds\n",
      "1/69 took 1.43781 seconds\n",
      "1/70 took 1.288679 seconds\n",
      "1/71 took 1.014596 seconds\n",
      "1/72 took 1.327429 seconds\n"
     ]
    },
    {
     "ename": "KeyboardInterrupt",
     "evalue": "",
     "output_type": "error",
     "traceback": [
      "\u001b[0;31m---------------------------------------------------------------------------\u001b[0m",
      "\u001b[0;31mKeyboardInterrupt\u001b[0m                         Traceback (most recent call last)",
      "\u001b[0;32m<ipython-input-3-2d2d063ddf54>\u001b[0m in \u001b[0;36m<module>\u001b[0;34m()\u001b[0m\n\u001b[1;32m      7\u001b[0m         \u001b[0mcol\u001b[0m \u001b[0;34m=\u001b[0m \u001b[0m_x\u001b[0m\u001b[0;34m\u001b[0m\u001b[0m\n\u001b[1;32m      8\u001b[0m         \u001b[0m_pstart\u001b[0m \u001b[0;34m=\u001b[0m \u001b[0mdatetime\u001b[0m\u001b[0;34m.\u001b[0m\u001b[0mnow\u001b[0m\u001b[0;34m(\u001b[0m\u001b[0;34m)\u001b[0m\u001b[0;34m\u001b[0m\u001b[0m\n\u001b[0;32m----> 9\u001b[0;31m         result =  ccd.detect([dtstr_to_ordinal(str(pd.to_datetime(i)), False) for i in rainbow_date_array],\n\u001b[0m\u001b[1;32m     10\u001b[0m                               \u001b[0mnp\u001b[0m\u001b[0;34m.\u001b[0m\u001b[0marray\u001b[0m\u001b[0;34m(\u001b[0m\u001b[0mrbow\u001b[0m\u001b[0;34m[\u001b[0m\u001b[0;34m'blue'\u001b[0m\u001b[0;34m]\u001b[0m\u001b[0;34m.\u001b[0m\u001b[0mvalues\u001b[0m\u001b[0;34m[\u001b[0m\u001b[0;34m:\u001b[0m\u001b[0;34m,\u001b[0m \u001b[0mrow\u001b[0m\u001b[0;34m,\u001b[0m \u001b[0mcol\u001b[0m\u001b[0;34m]\u001b[0m\u001b[0;34m)\u001b[0m\u001b[0;34m,\u001b[0m\u001b[0;34m\u001b[0m\u001b[0m\n\u001b[1;32m     11\u001b[0m                               \u001b[0mnp\u001b[0m\u001b[0;34m.\u001b[0m\u001b[0marray\u001b[0m\u001b[0;34m(\u001b[0m\u001b[0mrbow\u001b[0m\u001b[0;34m[\u001b[0m\u001b[0;34m'green'\u001b[0m\u001b[0;34m]\u001b[0m\u001b[0;34m.\u001b[0m\u001b[0mvalues\u001b[0m\u001b[0;34m[\u001b[0m\u001b[0;34m:\u001b[0m\u001b[0;34m,\u001b[0m \u001b[0mrow\u001b[0m\u001b[0;34m,\u001b[0m \u001b[0mcol\u001b[0m\u001b[0;34m]\u001b[0m\u001b[0;34m)\u001b[0m\u001b[0;34m,\u001b[0m\u001b[0;34m\u001b[0m\u001b[0m\n",
      "\u001b[0;32m<ipython-input-3-2d2d063ddf54>\u001b[0m in \u001b[0;36m<listcomp>\u001b[0;34m(.0)\u001b[0m\n\u001b[1;32m      7\u001b[0m         \u001b[0mcol\u001b[0m \u001b[0;34m=\u001b[0m \u001b[0m_x\u001b[0m\u001b[0;34m\u001b[0m\u001b[0m\n\u001b[1;32m      8\u001b[0m         \u001b[0m_pstart\u001b[0m \u001b[0;34m=\u001b[0m \u001b[0mdatetime\u001b[0m\u001b[0;34m.\u001b[0m\u001b[0mnow\u001b[0m\u001b[0;34m(\u001b[0m\u001b[0;34m)\u001b[0m\u001b[0;34m\u001b[0m\u001b[0m\n\u001b[0;32m----> 9\u001b[0;31m         result =  ccd.detect([dtstr_to_ordinal(str(pd.to_datetime(i)), False) for i in rainbow_date_array],\n\u001b[0m\u001b[1;32m     10\u001b[0m                               \u001b[0mnp\u001b[0m\u001b[0;34m.\u001b[0m\u001b[0marray\u001b[0m\u001b[0;34m(\u001b[0m\u001b[0mrbow\u001b[0m\u001b[0;34m[\u001b[0m\u001b[0;34m'blue'\u001b[0m\u001b[0;34m]\u001b[0m\u001b[0;34m.\u001b[0m\u001b[0mvalues\u001b[0m\u001b[0;34m[\u001b[0m\u001b[0;34m:\u001b[0m\u001b[0;34m,\u001b[0m \u001b[0mrow\u001b[0m\u001b[0;34m,\u001b[0m \u001b[0mcol\u001b[0m\u001b[0;34m]\u001b[0m\u001b[0;34m)\u001b[0m\u001b[0;34m,\u001b[0m\u001b[0;34m\u001b[0m\u001b[0m\n\u001b[1;32m     11\u001b[0m                               \u001b[0mnp\u001b[0m\u001b[0;34m.\u001b[0m\u001b[0marray\u001b[0m\u001b[0;34m(\u001b[0m\u001b[0mrbow\u001b[0m\u001b[0;34m[\u001b[0m\u001b[0;34m'green'\u001b[0m\u001b[0;34m]\u001b[0m\u001b[0;34m.\u001b[0m\u001b[0mvalues\u001b[0m\u001b[0;34m[\u001b[0m\u001b[0;34m:\u001b[0m\u001b[0;34m,\u001b[0m \u001b[0mrow\u001b[0m\u001b[0;34m,\u001b[0m \u001b[0mcol\u001b[0m\u001b[0;34m]\u001b[0m\u001b[0;34m)\u001b[0m\u001b[0;34m,\u001b[0m\u001b[0;34m\u001b[0m\u001b[0m\n",
      "\u001b[0;32m~/miniconda2/envs/ccd35/lib/python3.5/site-packages/pandas/util/decorators.py\u001b[0m in \u001b[0;36mwrapper\u001b[0;34m(*args, **kwargs)\u001b[0m\n\u001b[1;32m     89\u001b[0m                 \u001b[0;32melse\u001b[0m\u001b[0;34m:\u001b[0m\u001b[0;34m\u001b[0m\u001b[0m\n\u001b[1;32m     90\u001b[0m                     \u001b[0mkwargs\u001b[0m\u001b[0;34m[\u001b[0m\u001b[0mnew_arg_name\u001b[0m\u001b[0;34m]\u001b[0m \u001b[0;34m=\u001b[0m \u001b[0mnew_arg_value\u001b[0m\u001b[0;34m\u001b[0m\u001b[0m\n\u001b[0;32m---> 91\u001b[0;31m             \u001b[0;32mreturn\u001b[0m \u001b[0mfunc\u001b[0m\u001b[0;34m(\u001b[0m\u001b[0;34m*\u001b[0m\u001b[0margs\u001b[0m\u001b[0;34m,\u001b[0m \u001b[0;34m**\u001b[0m\u001b[0mkwargs\u001b[0m\u001b[0;34m)\u001b[0m\u001b[0;34m\u001b[0m\u001b[0m\n\u001b[0m\u001b[1;32m     92\u001b[0m         \u001b[0;32mreturn\u001b[0m \u001b[0mwrapper\u001b[0m\u001b[0;34m\u001b[0m\u001b[0m\n\u001b[1;32m     93\u001b[0m     \u001b[0;32mreturn\u001b[0m \u001b[0m_deprecate_kwarg\u001b[0m\u001b[0;34m\u001b[0m\u001b[0m\n",
      "\u001b[0;32m~/miniconda2/envs/ccd35/lib/python3.5/site-packages/pandas/tseries/tools.py\u001b[0m in \u001b[0;36mto_datetime\u001b[0;34m(arg, errors, dayfirst, yearfirst, utc, box, format, exact, coerce, unit, infer_datetime_format)\u001b[0m\n\u001b[1;32m    428\u001b[0m         \u001b[0;32mreturn\u001b[0m \u001b[0m_convert_listlike\u001b[0m\u001b[0;34m(\u001b[0m\u001b[0marg\u001b[0m\u001b[0;34m,\u001b[0m \u001b[0mbox\u001b[0m\u001b[0;34m,\u001b[0m \u001b[0mformat\u001b[0m\u001b[0;34m)\u001b[0m\u001b[0;34m\u001b[0m\u001b[0m\n\u001b[1;32m    429\u001b[0m \u001b[0;34m\u001b[0m\u001b[0m\n\u001b[0;32m--> 430\u001b[0;31m     \u001b[0;32mreturn\u001b[0m \u001b[0m_convert_listlike\u001b[0m\u001b[0;34m(\u001b[0m\u001b[0mnp\u001b[0m\u001b[0;34m.\u001b[0m\u001b[0marray\u001b[0m\u001b[0;34m(\u001b[0m\u001b[0;34m[\u001b[0m\u001b[0marg\u001b[0m\u001b[0;34m]\u001b[0m\u001b[0;34m)\u001b[0m\u001b[0;34m,\u001b[0m \u001b[0mbox\u001b[0m\u001b[0;34m,\u001b[0m \u001b[0mformat\u001b[0m\u001b[0;34m)\u001b[0m\u001b[0;34m[\u001b[0m\u001b[0;36m0\u001b[0m\u001b[0;34m]\u001b[0m\u001b[0;34m\u001b[0m\u001b[0m\n\u001b[0m\u001b[1;32m    431\u001b[0m \u001b[0;34m\u001b[0m\u001b[0m\n\u001b[1;32m    432\u001b[0m \u001b[0;34m\u001b[0m\u001b[0m\n",
      "\u001b[0;32m~/miniconda2/envs/ccd35/lib/python3.5/site-packages/pandas/tseries/tools.py\u001b[0m in \u001b[0;36m_convert_listlike\u001b[0;34m(arg, box, format, name, tz)\u001b[0m\n\u001b[1;32m    403\u001b[0m \u001b[0;34m\u001b[0m\u001b[0m\n\u001b[1;32m    404\u001b[0m             \u001b[0;32mif\u001b[0m \u001b[0mis_datetime64_dtype\u001b[0m\u001b[0;34m(\u001b[0m\u001b[0mresult\u001b[0m\u001b[0;34m)\u001b[0m \u001b[0;32mand\u001b[0m \u001b[0mbox\u001b[0m\u001b[0;34m:\u001b[0m\u001b[0;34m\u001b[0m\u001b[0m\n\u001b[0;32m--> 405\u001b[0;31m                 \u001b[0mresult\u001b[0m \u001b[0;34m=\u001b[0m \u001b[0mDatetimeIndex\u001b[0m\u001b[0;34m(\u001b[0m\u001b[0mresult\u001b[0m\u001b[0;34m,\u001b[0m \u001b[0mtz\u001b[0m\u001b[0;34m=\u001b[0m\u001b[0mtz\u001b[0m\u001b[0;34m,\u001b[0m \u001b[0mname\u001b[0m\u001b[0;34m=\u001b[0m\u001b[0mname\u001b[0m\u001b[0;34m)\u001b[0m\u001b[0;34m\u001b[0m\u001b[0m\n\u001b[0m\u001b[1;32m    406\u001b[0m             \u001b[0;32mreturn\u001b[0m \u001b[0mresult\u001b[0m\u001b[0;34m\u001b[0m\u001b[0m\n\u001b[1;32m    407\u001b[0m \u001b[0;34m\u001b[0m\u001b[0m\n",
      "\u001b[0;32m~/miniconda2/envs/ccd35/lib/python3.5/site-packages/pandas/util/decorators.py\u001b[0m in \u001b[0;36mwrapper\u001b[0;34m(*args, **kwargs)\u001b[0m\n\u001b[1;32m     89\u001b[0m                 \u001b[0;32melse\u001b[0m\u001b[0;34m:\u001b[0m\u001b[0;34m\u001b[0m\u001b[0m\n\u001b[1;32m     90\u001b[0m                     \u001b[0mkwargs\u001b[0m\u001b[0;34m[\u001b[0m\u001b[0mnew_arg_name\u001b[0m\u001b[0;34m]\u001b[0m \u001b[0;34m=\u001b[0m \u001b[0mnew_arg_value\u001b[0m\u001b[0;34m\u001b[0m\u001b[0m\n\u001b[0;32m---> 91\u001b[0;31m             \u001b[0;32mreturn\u001b[0m \u001b[0mfunc\u001b[0m\u001b[0;34m(\u001b[0m\u001b[0;34m*\u001b[0m\u001b[0margs\u001b[0m\u001b[0;34m,\u001b[0m \u001b[0;34m**\u001b[0m\u001b[0mkwargs\u001b[0m\u001b[0;34m)\u001b[0m\u001b[0;34m\u001b[0m\u001b[0m\n\u001b[0m\u001b[1;32m     92\u001b[0m         \u001b[0;32mreturn\u001b[0m \u001b[0mwrapper\u001b[0m\u001b[0;34m\u001b[0m\u001b[0m\n\u001b[1;32m     93\u001b[0m     \u001b[0;32mreturn\u001b[0m \u001b[0m_deprecate_kwarg\u001b[0m\u001b[0;34m\u001b[0m\u001b[0m\n",
      "\u001b[0;32m~/miniconda2/envs/ccd35/lib/python3.5/site-packages/pandas/tseries/index.py\u001b[0m in \u001b[0;36m__new__\u001b[0;34m(cls, data, freq, start, end, periods, copy, name, tz, verify_integrity, normalize, closed, ambiguous, dtype, **kwargs)\u001b[0m\n\u001b[1;32m    319\u001b[0m                                      yearfirst=yearfirst)\n\u001b[1;32m    320\u001b[0m \u001b[0;34m\u001b[0m\u001b[0m\n\u001b[0;32m--> 321\u001b[0;31m         \u001b[0;32mif\u001b[0m \u001b[0missubclass\u001b[0m\u001b[0;34m(\u001b[0m\u001b[0mdata\u001b[0m\u001b[0;34m.\u001b[0m\u001b[0mdtype\u001b[0m\u001b[0;34m.\u001b[0m\u001b[0mtype\u001b[0m\u001b[0;34m,\u001b[0m \u001b[0mnp\u001b[0m\u001b[0;34m.\u001b[0m\u001b[0mdatetime64\u001b[0m\u001b[0;34m)\u001b[0m \u001b[0;32mor\u001b[0m \u001b[0mis_datetimetz\u001b[0m\u001b[0;34m(\u001b[0m\u001b[0mdata\u001b[0m\u001b[0;34m)\u001b[0m\u001b[0;34m:\u001b[0m\u001b[0;34m\u001b[0m\u001b[0m\n\u001b[0m\u001b[1;32m    322\u001b[0m \u001b[0;34m\u001b[0m\u001b[0m\n\u001b[1;32m    323\u001b[0m             \u001b[0;32mif\u001b[0m \u001b[0misinstance\u001b[0m\u001b[0;34m(\u001b[0m\u001b[0mdata\u001b[0m\u001b[0;34m,\u001b[0m \u001b[0mDatetimeIndex\u001b[0m\u001b[0;34m)\u001b[0m\u001b[0;34m:\u001b[0m\u001b[0;34m\u001b[0m\u001b[0m\n",
      "\u001b[0;31mKeyboardInterrupt\u001b[0m: "
     ]
    }
   ],
   "source": [
    "rainbow_date_array = np.array(rbow['t'].values)\n",
    "_st = datetime.now()\n",
    "_results = []\n",
    "for _x in range(0, 100):\n",
    "    for _y in range(0, 100):\n",
    "        row = _y\n",
    "        col = _x\n",
    "        _pstart = datetime.now()\n",
    "        result =  ccd.detect([dtstr_to_ordinal(str(pd.to_datetime(i)), False) for i in rainbow_date_array],\n",
    "                              np.array(rbow['blue'].values[:, row, col]),\n",
    "                              np.array(rbow['green'].values[:, row, col]),\n",
    "                              np.array(rbow['red'].values[:, row, col]),\n",
    "                              np.array(rbow['nir'].values[:, row, col]),\n",
    "                              np.array(rbow['swir1'].values[:, row, col]),\n",
    "                              np.array(rbow['swir2'].values[:, row, col]),\n",
    "                              np.array(rbow['thermal'].values[:, row, col]),\n",
    "                              np.array(rbow['cfmask'].values[:, row, col], dtype=int),\n",
    "                              params={})\n",
    "        if result:\n",
    "            _results.append((_x, _y))\n",
    "            print(\"{}/{} took {} seconds\".format(_x, _y, (datetime.now() - _pstart).total_seconds()))\n",
    "\n",
    "        \n",
    "print(\"took: {}\".format((datetime.now() - _st).total_seconds()))"
   ]
  },
  {
   "cell_type": "code",
   "execution_count": 4,
   "metadata": {},
   "outputs": [
    {
     "data": {
      "text/plain": [
       "4.2125"
      ]
     },
     "execution_count": 4,
     "metadata": {},
     "output_type": "execute_result"
    }
   ],
   "source": [
    "15165 / 60 / 60"
   ]
  },
  {
   "cell_type": "code",
   "execution_count": 4,
   "metadata": {
    "collapsed": true
   },
   "outputs": [],
   "source": [
    "def run_d():\n",
    "    row, col = yindex, xindex\n",
    "    rainbow_date_array = np.array(rbow['t'].values)\n",
    "\n",
    "    result =  ccd.detect([dtstr_to_ordinal(str(pd.to_datetime(i)), False) for i in rainbow_date_array],\n",
    "                         np.array(rbow['blue'].values[:, row, col]),\n",
    "                         np.array(rbow['green'].values[:, row, col]),\n",
    "                         np.array(rbow['red'].values[:, row, col]),\n",
    "                         np.array(rbow['nir'].values[:, row, col]),\n",
    "                         np.array(rbow['swir1'].values[:, row, col]),\n",
    "                         np.array(rbow['swir2'].values[:, row, col]),\n",
    "                         np.array(rbow['thermal'].values[:, row, col]),\n",
    "                         np.array(rbow['cfmask'].values[:, row, col], dtype=int),\n",
    "                         params={})\n",
    "    if result:\n",
    "        return True"
   ]
  },
  {
   "cell_type": "code",
   "execution_count": 5,
   "metadata": {
    "collapsed": true
   },
   "outputs": [],
   "source": [
    "import profile"
   ]
  },
  {
   "cell_type": "code",
   "execution_count": 7,
   "metadata": {},
   "outputs": [
    {
     "name": "stderr",
     "output_type": "stream",
     "text": [
      "/home/caustin/miniconda2/envs/ccd35/lib/python3.5/site-packages/sklearn/linear_model/coordinate_descent.py:484: ConvergenceWarning: Objective did not converge. You might want to increase the number of iterations. Fitting data with very small alpha may cause precision problems.\n",
      "  ConvergenceWarning)\n"
     ]
    }
   ],
   "source": [
    "profile.run('run_d()', filename=\"baseline_{}.stats\".format(datetime.now().strftime(\"%m-%d_%H:%M\")))"
   ]
  },
  {
   "cell_type": "code",
   "execution_count": 15,
   "metadata": {},
   "outputs": [
    {
     "data": {
      "text/plain": [
       "'07-18_13:33'"
      ]
     },
     "execution_count": 15,
     "metadata": {},
     "output_type": "execute_result"
    }
   ],
   "source": []
  },
  {
   "cell_type": "code",
   "execution_count": 5,
   "metadata": {},
   "outputs": [
    {
     "data": {
      "text/plain": [
       "array([[ 0.,  0.,  0.,  0.,  0.,  0.,  0.],\n",
       "       [ 0.,  0.,  0.,  0.,  0.,  0.,  0.],\n",
       "       [ 0.,  0.,  0.,  0.,  0.,  0.,  0.],\n",
       "       [ 0.,  0.,  0.,  0.,  0.,  0.,  0.],\n",
       "       [ 0.,  0.,  0.,  0.,  0.,  0.,  0.],\n",
       "       [ 0.,  0.,  0.,  0.,  0.,  0.,  0.],\n",
       "       [ 0.,  0.,  0.,  0.,  0.,  0.,  0.],\n",
       "       [ 0.,  0.,  0.,  0.,  0.,  0.,  0.],\n",
       "       [ 0.,  0.,  0.,  0.,  0.,  0.,  0.],\n",
       "       [ 0.,  0.,  0.,  0.,  0.,  0.,  0.],\n",
       "       [ 0.,  0.,  0.,  0.,  0.,  0.,  0.],\n",
       "       [ 0.,  0.,  0.,  0.,  0.,  0.,  0.]])"
      ]
     },
     "execution_count": 5,
     "metadata": {},
     "output_type": "execute_result"
    }
   ],
   "source": [
    "dates = np.array([724232, 724400, 724432, 724448, 724464, 724496, 724576, 724624, 724800, 724848, 724864, 724896])\n",
    "matrix = np.zeros(shape=(len(dates), 7), order='F')\n",
    "matrix"
   ]
  },
  {
   "cell_type": "code",
   "execution_count": 7,
   "metadata": {},
   "outputs": [
    {
     "data": {
      "text/plain": [
       "['T',\n",
       " '__abs__',\n",
       " '__add__',\n",
       " '__and__',\n",
       " '__array__',\n",
       " '__array_finalize__',\n",
       " '__array_interface__',\n",
       " '__array_prepare__',\n",
       " '__array_priority__',\n",
       " '__array_struct__',\n",
       " '__array_wrap__',\n",
       " '__bool__',\n",
       " '__class__',\n",
       " '__complex__',\n",
       " '__contains__',\n",
       " '__copy__',\n",
       " '__deepcopy__',\n",
       " '__delattr__',\n",
       " '__delitem__',\n",
       " '__dir__',\n",
       " '__divmod__',\n",
       " '__doc__',\n",
       " '__eq__',\n",
       " '__float__',\n",
       " '__floordiv__',\n",
       " '__format__',\n",
       " '__ge__',\n",
       " '__getattribute__',\n",
       " '__getitem__',\n",
       " '__gt__',\n",
       " '__hash__',\n",
       " '__iadd__',\n",
       " '__iand__',\n",
       " '__ifloordiv__',\n",
       " '__ilshift__',\n",
       " '__imatmul__',\n",
       " '__imod__',\n",
       " '__imul__',\n",
       " '__index__',\n",
       " '__init__',\n",
       " '__int__',\n",
       " '__invert__',\n",
       " '__ior__',\n",
       " '__ipow__',\n",
       " '__irshift__',\n",
       " '__isub__',\n",
       " '__iter__',\n",
       " '__itruediv__',\n",
       " '__ixor__',\n",
       " '__le__',\n",
       " '__len__',\n",
       " '__lshift__',\n",
       " '__lt__',\n",
       " '__matmul__',\n",
       " '__mod__',\n",
       " '__mul__',\n",
       " '__ne__',\n",
       " '__neg__',\n",
       " '__new__',\n",
       " '__or__',\n",
       " '__pos__',\n",
       " '__pow__',\n",
       " '__radd__',\n",
       " '__rand__',\n",
       " '__rdivmod__',\n",
       " '__reduce__',\n",
       " '__reduce_ex__',\n",
       " '__repr__',\n",
       " '__rfloordiv__',\n",
       " '__rlshift__',\n",
       " '__rmatmul__',\n",
       " '__rmod__',\n",
       " '__rmul__',\n",
       " '__ror__',\n",
       " '__rpow__',\n",
       " '__rrshift__',\n",
       " '__rshift__',\n",
       " '__rsub__',\n",
       " '__rtruediv__',\n",
       " '__rxor__',\n",
       " '__setattr__',\n",
       " '__setitem__',\n",
       " '__setstate__',\n",
       " '__sizeof__',\n",
       " '__str__',\n",
       " '__sub__',\n",
       " '__subclasshook__',\n",
       " '__truediv__',\n",
       " '__xor__',\n",
       " 'all',\n",
       " 'any',\n",
       " 'argmax',\n",
       " 'argmin',\n",
       " 'argpartition',\n",
       " 'argsort',\n",
       " 'astype',\n",
       " 'base',\n",
       " 'byteswap',\n",
       " 'choose',\n",
       " 'clip',\n",
       " 'compress',\n",
       " 'conj',\n",
       " 'conjugate',\n",
       " 'copy',\n",
       " 'ctypes',\n",
       " 'cumprod',\n",
       " 'cumsum',\n",
       " 'data',\n",
       " 'diagonal',\n",
       " 'dot',\n",
       " 'dtype',\n",
       " 'dump',\n",
       " 'dumps',\n",
       " 'fill',\n",
       " 'flags',\n",
       " 'flat',\n",
       " 'flatten',\n",
       " 'getfield',\n",
       " 'imag',\n",
       " 'item',\n",
       " 'itemset',\n",
       " 'itemsize',\n",
       " 'max',\n",
       " 'mean',\n",
       " 'min',\n",
       " 'nbytes',\n",
       " 'ndim',\n",
       " 'newbyteorder',\n",
       " 'nonzero',\n",
       " 'partition',\n",
       " 'prod',\n",
       " 'ptp',\n",
       " 'put',\n",
       " 'ravel',\n",
       " 'real',\n",
       " 'repeat',\n",
       " 'reshape',\n",
       " 'resize',\n",
       " 'round',\n",
       " 'searchsorted',\n",
       " 'setfield',\n",
       " 'setflags',\n",
       " 'shape',\n",
       " 'size',\n",
       " 'sort',\n",
       " 'squeeze',\n",
       " 'std',\n",
       " 'strides',\n",
       " 'sum',\n",
       " 'swapaxes',\n",
       " 'take',\n",
       " 'tobytes',\n",
       " 'tofile',\n",
       " 'tolist',\n",
       " 'tostring',\n",
       " 'trace',\n",
       " 'transpose',\n",
       " 'var',\n",
       " 'view']"
      ]
     },
     "execution_count": 7,
     "metadata": {},
     "output_type": "execute_result"
    }
   ],
   "source": [
    "dir(matrix)"
   ]
  },
  {
   "cell_type": "code",
   "execution_count": 8,
   "metadata": {},
   "outputs": [
    {
     "data": {
      "text/plain": [
       "2"
      ]
     },
     "execution_count": 8,
     "metadata": {},
     "output_type": "execute_result"
    }
   ],
   "source": [
    "matrix.ndim"
   ]
  },
  {
   "cell_type": "code",
   "execution_count": 9,
   "metadata": {},
   "outputs": [
    {
     "data": {
      "text/plain": [
       "numpy.float64"
      ]
     },
     "execution_count": 9,
     "metadata": {},
     "output_type": "execute_result"
    }
   ],
   "source": [
    "type(matrix[0][0])"
   ]
  },
  {
   "cell_type": "code",
   "execution_count": 10,
   "metadata": {
    "collapsed": true
   },
   "outputs": [],
   "source": [
    "avg_days_yr = 365.25\n",
    "w = 2 * np.pi / avg_days_yr\n",
    "matrix[:, 0] = dates\n",
    "matrix[:, 1] = np.cos(w * dates)\n",
    "matrix[:, 2] = np.sin(w * dates)"
   ]
  },
  {
   "cell_type": "code",
   "execution_count": 11,
   "metadata": {},
   "outputs": [
    {
     "data": {
      "text/plain": [
       "array([[  7.24232000e+05,   5.31316606e-01,  -8.47173337e-01,\n",
       "          0.00000000e+00,   0.00000000e+00,   0.00000000e+00,\n",
       "          0.00000000e+00],\n",
       "       [  7.24400000e+05,  -3.03695038e-01,   9.52769292e-01,\n",
       "          0.00000000e+00,   0.00000000e+00,   0.00000000e+00,\n",
       "          0.00000000e+00],\n",
       "       [  7.24432000e+05,  -7.57219819e-01,   6.53160122e-01,\n",
       "          0.00000000e+00,   0.00000000e+00,   0.00000000e+00,\n",
       "          0.00000000e+00],\n",
       "       [  7.24448000e+05,  -9.06232043e-01,   4.22780658e-01,\n",
       "          0.00000000e+00,   0.00000000e+00,   0.00000000e+00,\n",
       "          0.00000000e+00],\n",
       "       [  7.24464000e+05,  -9.87023716e-01,   1.60574545e-01,\n",
       "          0.00000000e+00,   0.00000000e+00,   0.00000000e+00,\n",
       "          0.00000000e+00],\n",
       "       [  7.24496000e+05,  -9.25211078e-01,  -3.79452844e-01,\n",
       "          0.00000000e+00,   0.00000000e+00,   0.00000000e+00,\n",
       "          0.00000000e+00],\n",
       "       [  7.24576000e+05,   1.93376474e-01,  -9.81124630e-01,\n",
       "          0.00000000e+00,   0.00000000e+00,   0.00000000e+00,\n",
       "          0.00000000e+00],\n",
       "       [  7.24624000e+05,   8.52274809e-01,  -5.23094303e-01,\n",
       "          0.00000000e+00,   0.00000000e+00,   0.00000000e+00,\n",
       "          0.00000000e+00],\n",
       "       [  7.24800000e+05,  -7.87259982e-01,   6.16621213e-01,\n",
       "          0.00000000e+00,   0.00000000e+00,   0.00000000e+00,\n",
       "          0.00000000e+00],\n",
       "       [  7.24848000e+05,  -9.87023716e-01,  -1.60574545e-01,\n",
       "          0.00000000e+00,   0.00000000e+00,   0.00000000e+00,\n",
       "          0.00000000e+00],\n",
       "       [  7.24864000e+05,  -9.06232043e-01,  -4.22780658e-01,\n",
       "          0.00000000e+00,   0.00000000e+00,   0.00000000e+00,\n",
       "          0.00000000e+00],\n",
       "       [  7.24896000e+05,  -5.51204587e-01,  -8.34370124e-01,\n",
       "          0.00000000e+00,   0.00000000e+00,   0.00000000e+00,\n",
       "          0.00000000e+00]])"
      ]
     },
     "execution_count": 11,
     "metadata": {},
     "output_type": "execute_result"
    }
   ],
   "source": [
    "matrix"
   ]
  },
  {
   "cell_type": "code",
   "execution_count": 15,
   "metadata": {},
   "outputs": [
    {
     "data": {
      "text/plain": [
       "numpy.float64"
      ]
     },
     "execution_count": 15,
     "metadata": {},
     "output_type": "execute_result"
    }
   ],
   "source": [
    "type(matrix[:, 1][0])"
   ]
  },
  {
   "cell_type": "code",
   "execution_count": 13,
   "metadata": {},
   "outputs": [
    {
     "data": {
      "text/plain": [
       "array([ 0.53131661, -0.30369504, -0.75721982, -0.90623204, -0.98702372,\n",
       "       -0.92521108,  0.19337647,  0.85227481, -0.78725998, -0.98702372,\n",
       "       -0.90623204, -0.55120459])"
      ]
     },
     "execution_count": 13,
     "metadata": {},
     "output_type": "execute_result"
    }
   ],
   "source": [
    "np.cos(w * dates)"
   ]
  },
  {
   "cell_type": "code",
   "execution_count": null,
   "metadata": {
    "collapsed": true
   },
   "outputs": [],
   "source": []
  }
 ],
 "metadata": {
  "kernelspec": {
   "display_name": "Python 3",
   "language": "python",
   "name": "python3"
  },
  "language_info": {
   "codemirror_mode": {
    "name": "ipython",
    "version": 3
   },
   "file_extension": ".py",
   "mimetype": "text/x-python",
   "name": "python",
   "nbconvert_exporter": "python",
   "pygments_lexer": "ipython3",
   "version": "3.5.3"
  }
 },
 "nbformat": 4,
 "nbformat_minor": 2
}
