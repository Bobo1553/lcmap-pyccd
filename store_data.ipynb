{
 "cells": [
  {
   "cell_type": "code",
   "execution_count": 4,
   "metadata": {},
   "outputs": [
    {
     "name": "stdout",
     "output_type": "stream",
     "text": [
      "took: 27.296124\n"
     ]
    }
   ],
   "source": [
    "import json, os\n",
    "import numpy as np\n",
    "import pandas as pd\n",
    "from datetime import datetime\n",
    "from test.shared import snap, rainbow\n",
    "\n",
    "import functools\n",
    "\n",
    "from numba import jit\n",
    "# detect results for x, y: -2094435, 1681005 took 2.455234 seconds to generate  VERIFIED 2.6 seconds locally\n",
    "# detect results for x, y: -2033595, 1685955 took 1.879693 seconds to generate\n",
    "# detect results for x, y: -2098875, 1694895 took 0.986887 seconds to generate  VERIFIED 1.8 seconds locally\n",
    "pixl_x, pixl_y = -2094435, 1681005\n",
    "pixl_x, pixl_y = -2098875, 1694895\n",
    "\n",
    "inputs_url = \"https://lcmaphost.com?x={x}&y={y}&acquired=1982-01-01/2015-12-31\\\n",
    "&ubid=LANDSAT_4/TM/SRB1&ubid=LANDSAT_4/TM/SRB2&ubid=LANDSAT_4/TM/SRB3&ubid=LANDSAT_4/TM/SRB4\\\n",
    "&ubid=LANDSAT_4/TM/SRB5&ubid=LANDSAT_4/TM/BTB6&ubid=LANDSAT_4/TM/SRB7&ubid=LANDSAT_4/TM/PIXELQA\\\n",
    "&ubid=LANDSAT_5/TM/SRB1&ubid=LANDSAT_5/TM/SRB2&ubid=LANDSAT_5/TM/SRB3&ubid=LANDSAT_5/TM/SRB4\\\n",
    "&ubid=LANDSAT_5/TM/SRB5&ubid=LANDSAT_5/TM/BTB6&ubid=LANDSAT_5/TM/SRB7&ubid=LANDSAT_5/TM/PIXELQA\\\n",
    "&ubid=LANDSAT_7/ETM/SRB1&ubid=LANDSAT_7/ETM/SRB2&ubid=LANDSAT_7/ETM/SRB3&ubid=LANDSAT_7/ETM/SRB4\\\n",
    "&ubid=LANDSAT_7/ETM/SRB5&ubid=LANDSAT_7/ETM/BTB6&ubid=LANDSAT_7/ETM/SRB7&ubid=LANDSAT_7/ETM/PIXELQA\\\n",
    "&ubid=LANDSAT_8/OLI_TIRS/SRB2&ubid=LANDSAT_8/OLI_TIRS/SRB3&ubid=LANDSAT_8/OLI_TIRS/SRB4&ubid=LANDSAT_8/OLI_TIRS/SRB5\\\n",
    "&ubid=LANDSAT_8/OLI_TIRS/SRB6&ubid=LANDSAT_8/OLI_TIRS/SRB7&ubid=LANDSAT_8/OLI_TIRS/BTB10\\\n",
    "&ubid=LANDSAT_8/OLI_TIRS/PIXELQA\".format(x=pixl_x, y=pixl_y)\n",
    "\n",
    "#dates           = [i.split('=')[1] for i in inputs_url.split('&') if 'acquired=' in i][0]\n",
    "chips_url       = inputs_url.split('?')[0]\n",
    "specs_url       = chips_url.replace('/chips', '/chip-specs')\n",
    "querystr_list   = inputs_url.split('?')[1].split('&')\n",
    "requested_ubids = tuple([i.replace('ubid=', '') for i in querystr_list if 'ubid=' in i])\n",
    "\n",
    "# get chip id\n",
    "chip_x, chip_y = snap(pixl_x, pixl_y)\n",
    "xindex = int((pixl_x - chip_x) / 30)\n",
    "yindex = int((chip_y - pixl_y) / 30)\n",
    "_start = datetime.now()\n",
    "rbow = rainbow(-2094585, 1682805, specs_url, chips_url, requested_ubids)\n",
    "print(\"took: {}\".format((datetime.now() - _start).total_seconds()))\n",
    "\n",
    "#@jit\n",
    "def dtstr_to_ordinal(dtstr, iso=True):\n",
    "    \"\"\" Return ordinal from string formatted date\"\"\"\n",
    "    _fmt = '%Y-%m-%dT%H:%M:%SZ' if iso else '%Y-%m-%d %H:%M:%S'\n",
    "    _dt = datetime.strptime(dtstr, _fmt)\n",
    "    return _dt.toordinal()"
   ]
  },
  {
   "cell_type": "code",
   "execution_count": 2,
   "metadata": {
    "collapsed": true
   },
   "outputs": [],
   "source": [
    "#%load_ext autoreload\n",
    "#%autoreload 2\n",
    "import ccd"
   ]
  },
  {
   "cell_type": "code",
   "execution_count": 3,
   "metadata": {},
   "outputs": [
    {
     "name": "stdout",
     "output_type": "stream",
     "text": [
      "took: 1.68239\n"
     ]
    },
    {
     "name": "stderr",
     "output_type": "stream",
     "text": [
      "/home/caustin/miniconda2/envs/ccd35/lib/python3.5/site-packages/sklearn/linear_model/coordinate_descent.py:484: ConvergenceWarning: Objective did not converge. You might want to increase the number of iterations. Fitting data with very small alpha may cause precision problems.\n",
      "  ConvergenceWarning)\n"
     ]
    }
   ],
   "source": [
    "row, col = yindex, xindex\n",
    "rainbow_date_array = np.array(rbow['t'].values)\n",
    "_start = datetime.now()\n",
    "result =  ccd.detect([dtstr_to_ordinal(str(pd.to_datetime(i)), False) for i in rainbow_date_array],\n",
    "                     np.array(rbow['blue'].values[:, row, col]),\n",
    "                     np.array(rbow['green'].values[:, row, col]),\n",
    "                     np.array(rbow['red'].values[:, row, col]),\n",
    "                     np.array(rbow['nir'].values[:, row, col]),\n",
    "                     np.array(rbow['swir1'].values[:, row, col]),\n",
    "                     np.array(rbow['swir2'].values[:, row, col]),\n",
    "                     np.array(rbow['thermal'].values[:, row, col]),\n",
    "                     np.array(rbow['cfmask'].values[:, row, col], dtype=int),\n",
    "                     params={})\n",
    "print(\"took: {}\".format((datetime.now() - _start).total_seconds()))"
   ]
  },
  {
   "cell_type": "code",
   "execution_count": 4,
   "metadata": {},
   "outputs": [
    {
     "name": "stdout",
     "output_type": "stream",
     "text": [
      "0/0 took 1.649852 seconds\n",
      "0/1 took 1.657786 seconds\n",
      "0/2 took 1.419819 seconds\n",
      "0/3 took 1.32656 seconds\n",
      "0/4 took 1.432151 seconds\n",
      "0/5 took 1.557231 seconds\n",
      "0/6 took 1.457413 seconds\n",
      "0/7 took 1.398303 seconds\n",
      "0/8 took 1.374576 seconds\n",
      "0/9 took 1.377771 seconds\n",
      "0/10 took 1.254215 seconds\n",
      "0/11 took 1.262047 seconds\n",
      "0/12 took 1.27317 seconds\n",
      "0/13 took 1.531479 seconds\n",
      "0/14 took 1.48254 seconds\n",
      "0/15 took 1.459803 seconds\n",
      "0/16 took 1.296999 seconds\n",
      "0/17 took 1.414475 seconds\n",
      "0/18 took 1.46508 seconds\n",
      "0/19 took 1.424325 seconds\n",
      "0/20 took 1.484795 seconds\n",
      "0/21 took 1.511357 seconds\n",
      "0/22 took 1.772455 seconds\n",
      "0/23 took 1.626123 seconds\n",
      "0/24 took 1.565168 seconds\n",
      "0/25 took 1.696821 seconds\n",
      "0/26 took 1.770563 seconds\n"
     ]
    },
    {
     "ename": "KeyboardInterrupt",
     "evalue": "",
     "output_type": "error",
     "traceback": [
      "\u001b[0;31m---------------------------------------------------------------------------\u001b[0m",
      "\u001b[0;31mKeyboardInterrupt\u001b[0m                         Traceback (most recent call last)",
      "\u001b[0;32m<ipython-input-4-2d2d063ddf54>\u001b[0m in \u001b[0;36m<module>\u001b[0;34m()\u001b[0m\n\u001b[1;32m     16\u001b[0m                               \u001b[0mnp\u001b[0m\u001b[0;34m.\u001b[0m\u001b[0marray\u001b[0m\u001b[0;34m(\u001b[0m\u001b[0mrbow\u001b[0m\u001b[0;34m[\u001b[0m\u001b[0;34m'thermal'\u001b[0m\u001b[0;34m]\u001b[0m\u001b[0;34m.\u001b[0m\u001b[0mvalues\u001b[0m\u001b[0;34m[\u001b[0m\u001b[0;34m:\u001b[0m\u001b[0;34m,\u001b[0m \u001b[0mrow\u001b[0m\u001b[0;34m,\u001b[0m \u001b[0mcol\u001b[0m\u001b[0;34m]\u001b[0m\u001b[0;34m)\u001b[0m\u001b[0;34m,\u001b[0m\u001b[0;34m\u001b[0m\u001b[0m\n\u001b[1;32m     17\u001b[0m                               \u001b[0mnp\u001b[0m\u001b[0;34m.\u001b[0m\u001b[0marray\u001b[0m\u001b[0;34m(\u001b[0m\u001b[0mrbow\u001b[0m\u001b[0;34m[\u001b[0m\u001b[0;34m'cfmask'\u001b[0m\u001b[0;34m]\u001b[0m\u001b[0;34m.\u001b[0m\u001b[0mvalues\u001b[0m\u001b[0;34m[\u001b[0m\u001b[0;34m:\u001b[0m\u001b[0;34m,\u001b[0m \u001b[0mrow\u001b[0m\u001b[0;34m,\u001b[0m \u001b[0mcol\u001b[0m\u001b[0;34m]\u001b[0m\u001b[0;34m,\u001b[0m \u001b[0mdtype\u001b[0m\u001b[0;34m=\u001b[0m\u001b[0mint\u001b[0m\u001b[0;34m)\u001b[0m\u001b[0;34m,\u001b[0m\u001b[0;34m\u001b[0m\u001b[0m\n\u001b[0;32m---> 18\u001b[0;31m                               params={})\n\u001b[0m\u001b[1;32m     19\u001b[0m         \u001b[0;32mif\u001b[0m \u001b[0mresult\u001b[0m\u001b[0;34m:\u001b[0m\u001b[0;34m\u001b[0m\u001b[0m\n\u001b[1;32m     20\u001b[0m             \u001b[0m_results\u001b[0m\u001b[0;34m.\u001b[0m\u001b[0mappend\u001b[0m\u001b[0;34m(\u001b[0m\u001b[0;34m(\u001b[0m\u001b[0m_x\u001b[0m\u001b[0;34m,\u001b[0m \u001b[0m_y\u001b[0m\u001b[0;34m)\u001b[0m\u001b[0;34m)\u001b[0m\u001b[0;34m\u001b[0m\u001b[0m\n",
      "\u001b[0;32m~/workspace/lcmap-pyccd/ccd/__init__.py\u001b[0m in \u001b[0;36mdetect\u001b[0;34m(dates, blues, greens, reds, nirs, swir1s, swir2s, thermals, quality, params)\u001b[0m\n\u001b[1;32m    169\u001b[0m     \u001b[0mprocedure\u001b[0m \u001b[0;34m=\u001b[0m \u001b[0m__determine_fit_procedure\u001b[0m\u001b[0;34m(\u001b[0m\u001b[0mquality\u001b[0m\u001b[0;34m,\u001b[0m \u001b[0mdict\u001b[0m\u001b[0;34m(\u001b[0m\u001b[0mproc_params\u001b[0m\u001b[0;34m)\u001b[0m\u001b[0;34m)\u001b[0m\u001b[0;34m\u001b[0m\u001b[0m\n\u001b[1;32m    170\u001b[0m \u001b[0;34m\u001b[0m\u001b[0m\n\u001b[0;32m--> 171\u001b[0;31m     \u001b[0mresults\u001b[0m \u001b[0;34m=\u001b[0m \u001b[0mprocedure\u001b[0m\u001b[0;34m(\u001b[0m\u001b[0mdates\u001b[0m\u001b[0;34m,\u001b[0m \u001b[0mspectra\u001b[0m\u001b[0;34m,\u001b[0m \u001b[0mquality\u001b[0m\u001b[0;34m,\u001b[0m \u001b[0mdict\u001b[0m\u001b[0;34m(\u001b[0m\u001b[0mproc_params\u001b[0m\u001b[0;34m)\u001b[0m\u001b[0;34m)\u001b[0m\u001b[0;34m\u001b[0m\u001b[0m\n\u001b[0m\u001b[1;32m    172\u001b[0m     \u001b[0mlog\u001b[0m\u001b[0;34m.\u001b[0m\u001b[0mdebug\u001b[0m\u001b[0;34m(\u001b[0m\u001b[0;34m'Total time for algorithm: %s'\u001b[0m\u001b[0;34m,\u001b[0m \u001b[0mtime\u001b[0m\u001b[0;34m.\u001b[0m\u001b[0mtime\u001b[0m\u001b[0;34m(\u001b[0m\u001b[0;34m)\u001b[0m \u001b[0;34m-\u001b[0m \u001b[0mt1\u001b[0m\u001b[0;34m)\u001b[0m\u001b[0;34m\u001b[0m\u001b[0m\n\u001b[1;32m    173\u001b[0m \u001b[0;34m\u001b[0m\u001b[0m\n",
      "\u001b[0;32m~/workspace/lcmap-pyccd/ccd/procedures.cpython-35m-x86_64-linux-gnu.so\u001b[0m in \u001b[0;36mcfunc.to_py.__Pyx_CFunc_tuple____ndarray____ndarray____ndarray____dict___to_py.wrap (ccd/procedures.c:13141)\u001b[0;34m()\u001b[0m\n",
      "\u001b[0;32m~/workspace/lcmap-pyccd/ccd/procedures.pyx\u001b[0m in \u001b[0;36mccd.procedures.standard_procedure (ccd/procedures.c:4281)\u001b[0;34m()\u001b[0m\n\u001b[1;32m    293\u001b[0m         \u001b[0;31m# Make things a little more readable by breaking this apart\u001b[0m\u001b[0;34m\u001b[0m\u001b[0;34m\u001b[0m\u001b[0m\n\u001b[1;32m    294\u001b[0m         \u001b[0;31m# catch return -> break apart into components\u001b[0m\u001b[0;34m\u001b[0m\u001b[0;34m\u001b[0m\u001b[0m\n\u001b[0;32m--> 295\u001b[0;31m         initialized = initialize(dates, observations, model_window,\n\u001b[0m\u001b[1;32m    296\u001b[0m                                  processing_mask, variogram, proc_params)\n\u001b[1;32m    297\u001b[0m \u001b[0;34m\u001b[0m\u001b[0m\n",
      "\u001b[0;32m~/workspace/lcmap-pyccd/ccd/procedures.pyx\u001b[0m in \u001b[0;36mccd.procedures.initialize (ccd/procedures.c:5538)\u001b[0;34m()\u001b[0m\n\u001b[1;32m    415\u001b[0m         \u001b[0;31m# Count outliers in the window, if there are too many outliers then\u001b[0m\u001b[0;34m\u001b[0m\u001b[0;34m\u001b[0m\u001b[0m\n\u001b[1;32m    416\u001b[0m         \u001b[0;31m# try again.\u001b[0m\u001b[0;34m\u001b[0m\u001b[0;34m\u001b[0m\u001b[0m\n\u001b[0;32m--> 417\u001b[0;31m         tmask_outliers = tmask.tmask(period[model_window],\n\u001b[0m\u001b[1;32m    418\u001b[0m                                      \u001b[0mspectral_obs\u001b[0m\u001b[0;34m[\u001b[0m\u001b[0;34m:\u001b[0m\u001b[0;34m,\u001b[0m \u001b[0mmodel_window\u001b[0m\u001b[0;34m]\u001b[0m\u001b[0;34m,\u001b[0m\u001b[0;34m\u001b[0m\u001b[0m\n\u001b[1;32m    419\u001b[0m                                      \u001b[0mvariogram\u001b[0m\u001b[0;34m,\u001b[0m \u001b[0mtmask_bands\u001b[0m\u001b[0;34m,\u001b[0m \u001b[0mtmask_scale\u001b[0m\u001b[0;34m,\u001b[0m\u001b[0;34m\u001b[0m\u001b[0m\n",
      "\u001b[0;32m~/workspace/lcmap-pyccd/ccd/models/tmask.pyx\u001b[0m in \u001b[0;36mccd.models.tmask.tmask (ccd/models/tmask.c:2470)\u001b[0;34m()\u001b[0m\n\u001b[1;32m     75\u001b[0m     \u001b[0;31m# values exceeds the threshold. If it does, then it is an outlier.\u001b[0m\u001b[0;34m\u001b[0m\u001b[0;34m\u001b[0m\u001b[0m\n\u001b[1;32m     76\u001b[0m     \u001b[0;32mfor\u001b[0m \u001b[0mband_ix\u001b[0m \u001b[0;32min\u001b[0m \u001b[0mbands\u001b[0m\u001b[0;34m:\u001b[0m\u001b[0;34m\u001b[0m\u001b[0m\n\u001b[0;32m---> 77\u001b[0;31m         \u001b[0mfit\u001b[0m \u001b[0;34m=\u001b[0m \u001b[0mregression\u001b[0m\u001b[0;34m.\u001b[0m\u001b[0mfit\u001b[0m\u001b[0;34m(\u001b[0m\u001b[0mtmask_matrix\u001b[0m\u001b[0;34m,\u001b[0m \u001b[0mobservations\u001b[0m\u001b[0;34m[\u001b[0m\u001b[0mband_ix\u001b[0m\u001b[0;34m]\u001b[0m\u001b[0;34m)\u001b[0m\u001b[0;34m\u001b[0m\u001b[0m\n\u001b[0m\u001b[1;32m     78\u001b[0m         \u001b[0mpredicted\u001b[0m \u001b[0;34m=\u001b[0m \u001b[0mfit\u001b[0m\u001b[0;34m.\u001b[0m\u001b[0mpredict\u001b[0m\u001b[0;34m(\u001b[0m\u001b[0mtmask_matrix\u001b[0m\u001b[0;34m)\u001b[0m\u001b[0;34m\u001b[0m\u001b[0m\n\u001b[1;32m     79\u001b[0m         \u001b[0moutliers\u001b[0m \u001b[0;34m+=\u001b[0m \u001b[0mnp\u001b[0m\u001b[0;34m.\u001b[0m\u001b[0mabs\u001b[0m\u001b[0;34m(\u001b[0m\u001b[0mpredicted\u001b[0m \u001b[0;34m-\u001b[0m \u001b[0mobservations\u001b[0m\u001b[0;34m[\u001b[0m\u001b[0mband_ix\u001b[0m\u001b[0;34m]\u001b[0m\u001b[0;34m)\u001b[0m \u001b[0;34m>\u001b[0m \u001b[0mvariogram\u001b[0m\u001b[0;34m[\u001b[0m\u001b[0mband_ix\u001b[0m\u001b[0;34m]\u001b[0m \u001b[0;34m*\u001b[0m \u001b[0mt_const\u001b[0m\u001b[0;34m\u001b[0m\u001b[0m\n",
      "\u001b[0;32m~/workspace/lcmap-pyccd/ccd/models/robust_fit.pyx\u001b[0m in \u001b[0;36mccd.models.robust_fit.RLM.fit (ccd/models/robust_fit.c:2762)\u001b[0;34m()\u001b[0m\n\u001b[1;32m    159\u001b[0m \u001b[0;34m\u001b[0m\u001b[0m\n\u001b[1;32m    160\u001b[0m         \"\"\"\n\u001b[0;32m--> 161\u001b[0;31m         \u001b[0mself\u001b[0m\u001b[0;34m.\u001b[0m\u001b[0mcoef_\u001b[0m\u001b[0;34m,\u001b[0m \u001b[0mresid\u001b[0m \u001b[0;34m=\u001b[0m \u001b[0m_weight_fit\u001b[0m\u001b[0;34m(\u001b[0m\u001b[0mX\u001b[0m\u001b[0;34m,\u001b[0m \u001b[0my\u001b[0m\u001b[0;34m,\u001b[0m \u001b[0mnumpy\u001b[0m\u001b[0;34m.\u001b[0m\u001b[0mones_like\u001b[0m\u001b[0;34m(\u001b[0m\u001b[0my\u001b[0m\u001b[0;34m)\u001b[0m\u001b[0;34m)\u001b[0m\u001b[0;34m\u001b[0m\u001b[0m\n\u001b[0m\u001b[1;32m    162\u001b[0m         \u001b[0mself\u001b[0m\u001b[0;34m.\u001b[0m\u001b[0mscale\u001b[0m \u001b[0;34m=\u001b[0m \u001b[0mself\u001b[0m\u001b[0;34m.\u001b[0m\u001b[0mscale_est\u001b[0m\u001b[0;34m(\u001b[0m\u001b[0mresid\u001b[0m\u001b[0;34m,\u001b[0m \u001b[0mc\u001b[0m\u001b[0;34m=\u001b[0m\u001b[0mself\u001b[0m\u001b[0;34m.\u001b[0m\u001b[0mscale_constant\u001b[0m\u001b[0;34m)\u001b[0m\u001b[0;34m\u001b[0m\u001b[0m\n\u001b[1;32m    163\u001b[0m \u001b[0;34m\u001b[0m\u001b[0m\n",
      "\u001b[0;32m~/miniconda2/envs/ccd35/lib/python3.5/site-packages/numpy/core/numeric.py\u001b[0m in \u001b[0;36mones_like\u001b[0;34m(a, dtype, order, subok)\u001b[0m\n\u001b[1;32m    195\u001b[0m \u001b[0;34m\u001b[0m\u001b[0m\n\u001b[1;32m    196\u001b[0m \u001b[0;34m\u001b[0m\u001b[0m\n\u001b[0;32m--> 197\u001b[0;31m \u001b[0;32mdef\u001b[0m \u001b[0mones_like\u001b[0m\u001b[0;34m(\u001b[0m\u001b[0ma\u001b[0m\u001b[0;34m,\u001b[0m \u001b[0mdtype\u001b[0m\u001b[0;34m=\u001b[0m\u001b[0;32mNone\u001b[0m\u001b[0;34m,\u001b[0m \u001b[0morder\u001b[0m\u001b[0;34m=\u001b[0m\u001b[0;34m'K'\u001b[0m\u001b[0;34m,\u001b[0m \u001b[0msubok\u001b[0m\u001b[0;34m=\u001b[0m\u001b[0;32mTrue\u001b[0m\u001b[0;34m)\u001b[0m\u001b[0;34m:\u001b[0m\u001b[0;34m\u001b[0m\u001b[0m\n\u001b[0m\u001b[1;32m    198\u001b[0m     \"\"\"\n\u001b[1;32m    199\u001b[0m     \u001b[0mReturn\u001b[0m \u001b[0man\u001b[0m \u001b[0marray\u001b[0m \u001b[0mof\u001b[0m \u001b[0mones\u001b[0m \u001b[0;32mwith\u001b[0m \u001b[0mthe\u001b[0m \u001b[0msame\u001b[0m \u001b[0mshape\u001b[0m \u001b[0;32mand\u001b[0m \u001b[0mtype\u001b[0m \u001b[0;32mas\u001b[0m \u001b[0ma\u001b[0m \u001b[0mgiven\u001b[0m \u001b[0marray\u001b[0m\u001b[0;34m.\u001b[0m\u001b[0;34m\u001b[0m\u001b[0m\n",
      "\u001b[0;31mKeyboardInterrupt\u001b[0m: "
     ]
    }
   ],
   "source": [
    "rainbow_date_array = np.array(rbow['t'].values)\n",
    "_st = datetime.now()\n",
    "_results = []\n",
    "for _x in range(0, 100):\n",
    "    for _y in range(0, 100):\n",
    "        row = _y\n",
    "        col = _x\n",
    "        _pstart = datetime.now()\n",
    "        result =  ccd.detect([dtstr_to_ordinal(str(pd.to_datetime(i)), False) for i in rainbow_date_array],\n",
    "                              np.array(rbow['blue'].values[:, row, col]),\n",
    "                              np.array(rbow['green'].values[:, row, col]),\n",
    "                              np.array(rbow['red'].values[:, row, col]),\n",
    "                              np.array(rbow['nir'].values[:, row, col]),\n",
    "                              np.array(rbow['swir1'].values[:, row, col]),\n",
    "                              np.array(rbow['swir2'].values[:, row, col]),\n",
    "                              np.array(rbow['thermal'].values[:, row, col]),\n",
    "                              np.array(rbow['cfmask'].values[:, row, col], dtype=int),\n",
    "                              params={})\n",
    "        if result:\n",
    "            _results.append((_x, _y))\n",
    "            print(\"{}/{} took {} seconds\".format(_x, _y, (datetime.now() - _pstart).total_seconds()))\n",
    "\n",
    "        \n",
    "print(\"took: {}\".format((datetime.now() - _st).total_seconds()))"
   ]
  },
  {
   "cell_type": "code",
   "execution_count": 4,
   "metadata": {},
   "outputs": [
    {
     "data": {
      "text/plain": [
       "{'algorithm': 'lcmap-pyccd:2017.06.20',\n",
       " 'change_models': [ChangeModel(start_day=724232, end_day=725312, break_day=725392, observation_count=24, change_probability=0, curve_qa=14, blue=SpectralModel(rmse=338.2362517669375, coefficients=array([  5.72314832e-02,  -4.78494556e+01,  -1.35054855e+02,\n",
       "         0.00000000e+00,   0.00000000e+00,   0.00000000e+00,\n",
       "         0.00000000e+00]), intercept=-40542.21402039448, magnitude=0.0), green=SpectralModel(rmse=373.0581077380078, coefficients=array([ -7.71233773e-02,  -9.73256070e+01,  -1.92039993e+02,\n",
       "         0.00000000e+00,   0.00000000e+00,   0.00000000e+00,\n",
       "         0.00000000e+00]), intercept=57243.694048785983, magnitude=0.0), red=SpectralModel(rmse=504.6105508657189, coefficients=array([  3.07450728e-02,  -1.24095968e+02,  -2.86588796e+02,\n",
       "         0.00000000e+00,   0.00000000e+00,   0.00000000e+00,\n",
       "         0.00000000e+00]), intercept=-20960.369270100979, magnitude=0.0), nir=SpectralModel(rmse=888.017945834977, coefficients=array([  6.29850131e-01,  -4.70093751e+01,  -7.88442427e+02,\n",
       "         0.00000000e+00,   0.00000000e+00,   0.00000000e+00,\n",
       "         0.00000000e+00]), intercept=-454933.16340354568, magnitude=0.0), swir1=SpectralModel(rmse=1517.491603486823, coefficients=array([   1.36866004,   43.76279753, -961.49906594,    0.        ,\n",
       "          0.        ,    0.        ,    0.        ]), intercept=-990557.87641078734, magnitude=0.0), swir2=SpectralModel(rmse=1330.4796894117158, coefficients=array([   0.98928446,  -39.934511  , -756.08634578,    0.        ,\n",
       "          0.        ,    0.        ,    0.        ]), intercept=-715877.89588992728, magnitude=0.0), thermal=SpectralModel(rmse=511.7641436108017, coefficients=array([  2.67241609e-01,  -1.05758565e+03,  -2.29618177e+02,\n",
       "         0.00000000e+00,   0.00000000e+00,   0.00000000e+00,\n",
       "         0.00000000e+00]), intercept=-191904.05375808029, magnitude=0.0)),\n",
       "  ChangeModel(start_day=725392, end_day=726928, break_day=726944, observation_count=55, change_probability=1, curve_qa=8, blue=SpectralModel(rmse=151.37665434137966, coefficients=array([   0.61525116, -135.80538802,  -80.55515282,  -16.37704122,\n",
       "        -15.57719084,    0.        ,    8.74883191]), intercept=-445431.03027534776, magnitude=618.58728373848135), green=SpectralModel(rmse=170.20140072261776, coefficients=array([   0.79095384, -248.22844699, -102.56648349,  -31.43642197,\n",
       "         -8.88607506,  -19.75282899,   21.75803452]), intercept=-572599.37854206504, magnitude=725.51127859990811), red=SpectralModel(rmse=172.51784550238884, coefficients=array([   0.85214642, -360.85754857, -162.50218516,  -29.56189113,\n",
       "        -22.02145202,  -23.08007037,   10.15888525]), intercept=-616809.53107702627, magnitude=695.07915199769195), nir=SpectralModel(rmse=209.81761913137487, coefficients=array([   0.5887512 , -378.30425539,   52.37558202, -138.94060917,\n",
       "        119.23731833, -101.82298194,   52.83977895]), intercept=-424817.5737699102, magnitude=110.9004672706069), swir1=SpectralModel(rmse=223.7572216175299, coefficients=array([   1.14105402, -543.56890187, -142.36733527,  -87.72863614,\n",
       "         -0.        ,  -67.08465667,   59.03717037]), intercept=-824706.62985150551, magnitude=1150.3125247189892), swir2=SpectralModel(rmse=298.79772253121376, coefficients=array([   1.56022814, -474.92055294,  -84.45373444,  -45.74169044,\n",
       "        -32.12954685,  -15.96638086,   80.69324802]), intercept=-1129693.9022265007, magnitude=1812.2167504529934), thermal=SpectralModel(rmse=491.5873681107857, coefficients=array([  8.97351851e-02,  -1.84282768e+03,   8.42794058e+01,\n",
       "        -3.96944162e+02,  -1.94853833e+01,  -1.06682279e+02,\n",
       "         2.38750854e+01]), intercept=-62533.226648871474, magnitude=655.19682615125203)),\n",
       "  ChangeModel(start_day=726944, end_day=728208, break_day=728224, observation_count=49, change_probability=1, curve_qa=8, blue=SpectralModel(rmse=116.68154463862082, coefficients=array([  -0.47551818,  -67.952137  , -139.95627903,  -25.91235421,\n",
       "        -76.66889953,   -9.04379227,  -32.01854265]), intercept=346937.20084458968, magnitude=359.21558377720066), green=SpectralModel(rmse=152.9079890721511, coefficients=array([  -0.6698019 , -176.45249592, -174.61489513,  -28.99158971,\n",
       "        -57.65920066,  -11.86576134,  -17.18674486]), intercept=488664.49179437163, magnitude=437.95063716717414), red=SpectralModel(rmse=153.8199997860083, coefficients=array([  -0.64535713, -413.31324187, -346.95377125,  -59.24746969,\n",
       "        -96.98272664,  -12.81498871,  -26.98430215]), intercept=471135.70199803915, magnitude=626.29227998387069), nir=SpectralModel(rmse=219.7466134373095, coefficients=array([  -0.97568075, -286.6376079 ,   15.14972068, -134.86556157,\n",
       "        111.55327941,  -26.47595222,   20.64798153]), intercept=712525.97590080241, magnitude=1592.3149854749208), swir1=SpectralModel(rmse=216.30962029658792, coefficients=array([ -6.90413789e-01,  -7.76744703e+02,  -3.26262739e+02,\n",
       "        -1.50685743e+02,  -6.05031056e+01,   1.90653812e+01,\n",
       "         6.42373713e+01]), intercept=505454.74607166921, magnitude=1688.846078440547), swir2=SpectralModel(rmse=233.9232783640016, coefficients=array([  -1.0032356 , -610.23740429, -216.55433697, -122.16074405,\n",
       "        -74.65265299,    4.58302966,   40.19992249]), intercept=732033.09760726709, magnitude=1326.2519185743295), thermal=SpectralModel(rmse=307.4126485306339, coefficients=array([  2.01239387e-01,  -1.61237062e+03,   9.76596330e+01,\n",
       "        -1.11348167e+02,   1.43558838e+02,  -0.00000000e+00,\n",
       "         1.57889513e+02]), intercept=-143866.16765064053, magnitude=1586.5890155588713)),\n",
       "  ChangeModel(start_day=728416, end_day=729920, break_day=729968, observation_count=55, change_probability=1, curve_qa=8, blue=SpectralModel(rmse=140.8860853117184, coefficients=array([ -5.47048152e-02,  -1.51487668e+02,  -4.00647344e+02,\n",
       "        -9.53054484e+01,   1.03639692e+02,  -8.45159769e+01,\n",
       "        -1.08538559e+02]), intercept=40584.325819596357, magnitude=248.10259902460893), green=SpectralModel(rmse=177.084320399708, coefficients=array([ -1.13780501e-01,  -2.62506378e+02,  -5.64301705e+02,\n",
       "        -1.19338908e+02,   1.22439541e+02,  -1.66374222e+02,\n",
       "        -1.17410944e+02]), intercept=83937.836263792851, magnitude=491.2228435003417), red=SpectralModel(rmse=201.48266351392957, coefficients=array([ -1.61858614e-01,  -2.62167247e+02,  -7.74595741e+02,\n",
       "        -1.78712934e+02,   1.42812170e+02,  -1.63557492e+02,\n",
       "        -1.41435077e+02]), intercept=119068.16866828235, magnitude=642.84643283108016), nir=SpectralModel(rmse=398.8572291185811, coefficients=array([ -3.74381800e-01,  -8.46080528e+02,  -1.61946262e+03,\n",
       "        -1.64507261e+02,   3.47460549e+02,  -4.91116499e+02,\n",
       "        -2.98093819e+02]), intercept=274650.3996231067, magnitude=1020.8295043965045), swir1=SpectralModel(rmse=426.95591531589423, coefficients=array([ -2.75844128e-01,  -5.30888206e+02,  -1.95847097e+03,\n",
       "        -1.95824986e+02,   2.68687111e+02,  -2.31054873e+02,\n",
       "        -4.24357372e+02]), intercept=202822.04855037399, magnitude=613.30583637586096), swir2=SpectralModel(rmse=333.4982574837255, coefficients=array([ -2.95263289e-02,  -2.45453468e+02,  -1.29717785e+03,\n",
       "        -1.39332605e+02,   1.30973732e+02,  -1.03654943e+02,\n",
       "        -2.74155501e+02]), intercept=22647.25210711177, magnitude=320.86953970920695), thermal=SpectralModel(rmse=317.19497333818975, coefficients=array([ -1.04447275e-01,  -1.25872471e+03,  -5.22348862e+02,\n",
       "        -3.30762994e+02,   2.78844110e+02,  -1.21371069e+02,\n",
       "         8.52611295e+01]), intercept=77936.503002266283, magnitude=218.55900967791968)),\n",
       "  ChangeModel(start_day=730152, end_day=730680, break_day=730688, observation_count=47, change_probability=1, curve_qa=8, blue=SpectralModel(rmse=120.33525789871575, coefficients=array([ -0.57720074, -52.51280632, -24.05689877,  -0.        ,\n",
       "       -63.32297585, -19.29068448,  15.86082721]), intercept=422885.60858181369, magnitude=428.15728694657446), green=SpectralModel(rmse=142.17062098914758, coefficients=array([  -0.64013403, -178.90754525,  -16.23823542,   -0.23512638,\n",
       "        -59.43475743,  -23.17639511,   43.76258718]), intercept=469224.0944556655, magnitude=576.28659393303678), red=SpectralModel(rmse=168.57552375421096, coefficients=array([  -0.61566845, -275.39572005, -117.1724319 ,   42.27417117,\n",
       "        -61.71277815,   -1.85779275,   62.70546537]), intercept=451658.64746706095, magnitude=708.57936072233133), nir=SpectralModel(rmse=166.11049463974356, coefficients=array([  -0.56064943, -450.87673062,   50.13096214, -152.31880922,\n",
       "        -99.96350579,  -15.67772038,  -26.17104028]), intercept=412294.83225707227, magnitude=606.88604320018203), swir1=SpectralModel(rmse=299.99740905919634, coefficients=array([  -0.90995013, -399.68698506, -177.1230467 ,   43.71038421,\n",
       "       -126.60124215, -117.1265303 ,   72.81396033]), intercept=668538.19759915769, magnitude=946.66929294570582), swir2=SpectralModel(rmse=298.7934737103138, coefficients=array([  -0.9064612 , -257.79944825,    0.        ,   33.80641581,\n",
       "         -6.69278902, -108.63533736,  121.69840772]), intercept=664955.88766975573, magnitude=1021.4944659699104), thermal=SpectralModel(rmse=361.24965158315524, coefficients=array([  7.37422116e-01,  -1.61877651e+03,   2.41087122e+02,\n",
       "        -2.85413176e+01,   1.62512948e+02,   7.85953806e+01,\n",
       "        -2.58963423e+01]), intercept=-535816.04684522341, magnitude=331.97812652535504)),\n",
       "  ChangeModel(start_day=730688, end_day=731648, break_day=731656, observation_count=76, change_probability=1, curve_qa=8, blue=SpectralModel(rmse=128.22180694956296, coefficients=array([ -1.63219897e-01,  -2.47582800e+02,  -1.67892922e+02,\n",
       "        -5.25678722e+01,  -7.85329653e+01,  -3.43799288e+01,\n",
       "        -2.72213123e+01]), intercept=120610.31558630856, magnitude=676.60330711601273), green=SpectralModel(rmse=115.92515870401763, coefficients=array([ -3.02445886e-01,  -3.72089429e+02,  -1.95657578e+02,\n",
       "        -7.88706347e+01,  -5.03285631e+01,  -4.78704101e+01,\n",
       "        -7.50186933e+00]), intercept=222800.66868947534, magnitude=847.31141345386277), red=SpectralModel(rmse=111.99526764507226, coefficients=array([ -5.11154337e-01,  -5.37391813e+02,  -2.56688166e+02,\n",
       "        -1.68886301e+02,  -4.46390580e+01,  -8.77643664e+01,\n",
       "        -1.29536994e+01]), intercept=375686.38383921306, magnitude=1059.631879785331), nir=SpectralModel(rmse=186.16851224795175, coefficients=array([  -0.69476443, -104.21263402,  -69.32471264,   88.16377856,\n",
       "        105.71398287,    3.67257116,   94.94952248]), intercept=510861.92664987466, magnitude=1569.1307335312595), swir1=SpectralModel(rmse=154.9077977286604, coefficients=array([ -6.47722484e-01,  -7.44102887e+02,  -2.15519058e+02,\n",
       "        -2.76253988e+02,  -5.87956765e+01,  -1.31869749e+02,\n",
       "        -1.32487232e+01]), intercept=477576.54189387365, magnitude=3465.1092205626774), swir2=SpectralModel(rmse=198.14278079420953, coefficients=array([ -2.21097418e-01,  -8.48591952e+02,  -1.85144793e+02,\n",
       "        -3.16844444e+02,  -1.51078797e+02,  -1.59166067e+02,\n",
       "        -2.31039263e+01]), intercept=164842.2741022282, magnitude=2956.1353358298511), thermal=SpectralModel(rmse=373.76343584134344, coefficients=array([ -2.07856404e-01,  -1.66209986e+03,   1.69860469e+02,\n",
       "        -3.50596678e+02,   1.65404597e+02,  -1.30346276e+01,\n",
       "         2.03097316e+02]), intercept=155004.40627860409, magnitude=1043.8961390002805)),\n",
       "  ChangeModel(start_day=732624, end_day=733880, break_day=733888, observation_count=103, change_probability=1, curve_qa=8, blue=SpectralModel(rmse=129.7219309365766, coefficients=array([  1.07988638e-02,  -2.53799469e+02,  -7.73169920e+01,\n",
       "        -0.00000000e+00,   6.05244806e+00,   2.21822113e+01,\n",
       "        -1.00687721e+00]), intercept=-6860.4598808119099, magnitude=394.98047560361283), green=SpectralModel(rmse=148.1637550630384, coefficients=array([  9.74788370e-03,  -3.77196926e+02,  -1.06540860e+02,\n",
       "        -7.17810369e+00,   1.88150578e+01,   8.43982242e+00,\n",
       "         6.77243251e+00]), intercept=-5784.2114284357731, magnitude=447.49432529783098), red=SpectralModel(rmse=170.83863267485023, coefficients=array([  3.48737365e-02,  -5.14556036e+02,  -1.68690703e+02,\n",
       "        -3.60542732e+01,  -2.97240737e+00,   4.29744741e+00,\n",
       "        -8.38825952e+00]), intercept=-23916.437604728962, magnitude=548.87619802660265), nir=SpectralModel(rmse=329.5887873175433, coefficients=array([  3.00782857e-01,  -3.31597715e+02,  -9.08103659e+00,\n",
       "         5.75736572e+01,   1.31537882e+02,   8.74513476e+00,\n",
       "         1.33395489e+02]), intercept=-218055.23365348074, magnitude=439.48405343032209), swir1=SpectralModel(rmse=204.07396560868779, coefficients=array([ -3.83140748e-02,  -7.82671806e+02,  -8.58825774e+01,\n",
       "        -1.00793535e+02,  -4.16829453e+01,   1.17603264e+01,\n",
       "         1.69456858e-01]), intercept=31707.232826619507, magnitude=891.57414183675428), swir2=SpectralModel(rmse=201.79845795613346, coefficients=array([  8.98943952e-02,  -6.83920309e+02,  -4.95638082e+01,\n",
       "        -9.08115418e+01,  -4.91925746e+01,   1.46267029e+01,\n",
       "        -4.20804371e+00]), intercept=-63254.322669280729, magnitude=886.51374499885424), thermal=SpectralModel(rmse=418.4274925042221, coefficients=array([  3.31378402e-01,  -1.64459601e+03,   2.30061943e+02,\n",
       "        -1.74130609e+02,   1.04794064e+02,  -7.24243823e+01,\n",
       "         2.02608828e+01]), intercept=-239838.55286238348, magnitude=523.46618786340696)),\n",
       "  ChangeModel(start_day=733944, end_day=734840, break_day=734856, observation_count=55, change_probability=1, curve_qa=8, blue=SpectralModel(rmse=87.62328885301433, coefficients=array([  6.91142825e-02,  -2.24874833e+02,  -3.56426640e+02,\n",
       "        -4.50329804e+01,   5.28858674e+01,  -7.62216517e+01,\n",
       "        -1.58094081e+01]), intercept=-50138.10898681933, magnitude=583.55338330995073), green=SpectralModel(rmse=103.73251963771344, coefficients=array([  2.26038771e-01,  -3.36164431e+02,  -4.69005695e+02,\n",
       "        -1.16303881e+00,   1.02703825e+02,  -8.02096724e+01,\n",
       "         1.84218830e+00]), intercept=-165133.37057373859, magnitude=448.36662512918701), red=SpectralModel(rmse=139.93147609474136, coefficients=array([  2.19690123e-01,  -3.88098044e+02,  -6.48836039e+02,\n",
       "        -5.99263439e+01,   1.66419838e+02,  -6.13887750e+01,\n",
       "        -0.00000000e+00]), intercept=-160373.64223567129, magnitude=576.96415184419311), nir=SpectralModel(rmse=341.3279329890496, coefficients=array([  1.03524634e+00,  -9.57106568e+02,  -1.26703387e+03,\n",
       "         2.36120105e+02,   4.77022011e+02,  -3.09110926e+02,\n",
       "        -7.86520172e+01]), intercept=-758575.04686542612, magnitude=751.26571788283763), swir1=SpectralModel(rmse=354.8355373861047, coefficients=array([  4.64407872e-01,  -7.45563749e+02,  -1.65802586e+03,\n",
       "        -1.87895779e+01,   2.98553036e+02,  -3.27744538e+02,\n",
       "        -1.83475170e+02]), intercept=-339440.26135682693, magnitude=2357.8128389456542), swir2=SpectralModel(rmse=271.83030113214994, coefficients=array([  1.65298367e-01,  -4.12980784e+02,  -1.04322510e+03,\n",
       "        -3.00945585e+01,   1.35373641e+02,  -2.39352625e+02,\n",
       "        -1.19877002e+02]), intercept=-120371.974577225, magnitude=2012.200030011707), thermal=SpectralModel(rmse=358.6214790373402, coefficients=array([ -3.17610576e-02,  -1.33044030e+03,  -5.46986889e+02,\n",
       "        -4.62976241e+01,   3.84814173e+02,  -8.12900076e+01,\n",
       "        -1.43004226e+01]), intercept=25533.353116435195, magnitude=853.81984746142007)),\n",
       "  ChangeModel(start_day=735352, end_day=735832, break_day=735840, observation_count=39, change_probability=1, curve_qa=8, blue=SpectralModel(rmse=143.36579346104384, coefficients=array([ -3.49557734e-01,  -1.39885586e+02,  -5.11740127e+02,\n",
       "        -1.57982211e+01,   2.11825329e+01,  -5.49168254e+01,\n",
       "        -3.92117276e+01]), intercept=257823.44157403972, magnitude=82.146361642109696), green=SpectralModel(rmse=132.66643452831866, coefficients=array([ -3.46290758e-01,  -3.06858203e+02,  -7.68395793e+02,\n",
       "        -0.00000000e+00,   7.88388920e+01,  -7.49017282e+01,\n",
       "        -2.89799505e+01]), intercept=255735.9672054328, magnitude=193.1174307941983), red=SpectralModel(rmse=160.43623360271351, coefficients=array([ -3.39460597e-01,  -3.41719869e+02,  -1.08280269e+03,\n",
       "        -1.21644060e+02,   1.33267676e+02,  -6.72289020e+01,\n",
       "        -2.97701447e+01]), intercept=250896.43883029479, magnitude=493.49383434517949), nir=SpectralModel(rmse=348.5440986110638, coefficients=array([  4.27481254e-01,  -9.89987787e+02,  -1.86113956e+03,\n",
       "         1.62581273e+02,   2.68584322e+02,  -4.50216587e+02,\n",
       "        -1.83189626e+02]), intercept=-312477.85049294459, magnitude=1512.2159045207081), swir1=SpectralModel(rmse=288.7559369754401, coefficients=array([  3.41261329e-01,  -5.11664455e+02,  -2.20228745e+03,\n",
       "         7.28158519e+01,   1.57320465e+02,  -1.96017736e+02,\n",
       "        -2.69326181e+02]), intercept=-248912.58364226299, magnitude=652.18370165787928), swir2=SpectralModel(rmse=246.51960211577426, coefficients=array([  1.95433967e-01,  -1.15911244e+02,  -1.50234179e+03,\n",
       "         1.91146182e+02,   8.35859583e+01,  -0.00000000e+00,\n",
       "        -1.95942310e+02]), intercept=-142231.07132661447, magnitude=326.09634023935359), thermal=SpectralModel(rmse=356.99664355019405, coefficients=array([ -5.03855154e-01,  -1.14626094e+03,  -4.72584686e+02,\n",
       "        -1.95200071e+02,   4.07474375e+02,   7.23333947e+00,\n",
       "         2.18356386e+00]), intercept=372943.1003910157, magnitude=598.42045206509647)),\n",
       "  ChangeModel(start_day=735840, end_day=735944, break_day=735944, observation_count=11, change_probability=0, curve_qa=24, blue=SpectralModel(rmse=67.51600034364633, coefficients=array([ 0.01701986, -0.        ,  0.        ,  0.        ,  0.        ,\n",
       "        0.        ,  0.        ]), intercept=-11400.628824392326, magnitude=0.0), green=SpectralModel(rmse=61.065530185729635, coefficients=array([ -0.19994872,   0.        , -70.70375081,   0.        ,\n",
       "         0.        ,   0.        ,   0.        ]), intercept=148577.78605488839, magnitude=0.0), red=SpectralModel(rmse=62.65929382497296, coefficients=array([ -0.57215195,  -0.        , -89.01797642,   0.        ,\n",
       "         0.        ,   0.        ,   0.        ]), intercept=422736.1563777097, magnitude=0.0), nir=SpectralModel(rmse=92.0863197261306, coefficients=array([ -2.94655424,   0.        , -95.01086158,   0.        ,\n",
       "         0.        ,   0.        ,   0.        ]), intercept=2170569.8396802605, magnitude=0.0), swir1=SpectralModel(rmse=103.55296333613617, coefficients=array([-5.0068564, -0.       ,  0.       ,  0.       ,  0.       ,\n",
       "        0.       ,  0.       ]), intercept=3687923.8216156755, magnitude=0.0), swir2=SpectralModel(rmse=124.03221437948528, coefficients=array([ -5.30431476,   0.        ,  57.44445118,   0.        ,\n",
       "         0.        ,   0.        ,   0.        ]), intercept=3906460.3983457997, magnitude=0.0), thermal=SpectralModel(rmse=443.70618708901156, coefficients=array([   48.51711984, -4798.45591063,  -274.16782212,     0.        ,\n",
       "           0.        ,     0.        ,     0.        ]), intercept=-35700573.477407493, magnitude=0.0))],\n",
       " 'procedure': b'standard_procedure',\n",
       " 'processing_mask': array([False, False, False, ..., False, False, False], dtype=bool)}"
      ]
     },
     "execution_count": 4,
     "metadata": {},
     "output_type": "execute_result"
    }
   ],
   "source": [
    "result"
   ]
  },
  {
   "cell_type": "code",
   "execution_count": 4,
   "metadata": {},
   "outputs": [
    {
     "data": {
      "text/plain": [
       "4.2125"
      ]
     },
     "execution_count": 4,
     "metadata": {},
     "output_type": "execute_result"
    }
   ],
   "source": [
    "15165 / 60 / 60"
   ]
  },
  {
   "cell_type": "code",
   "execution_count": 4,
   "metadata": {
    "collapsed": true
   },
   "outputs": [],
   "source": [
    "def run_d():\n",
    "    row, col = yindex, xindex\n",
    "    rainbow_date_array = np.array(rbow['t'].values)\n",
    "\n",
    "    result =  ccd.detect([dtstr_to_ordinal(str(pd.to_datetime(i)), False) for i in rainbow_date_array],\n",
    "                         np.array(rbow['blue'].values[:, row, col]),\n",
    "                         np.array(rbow['green'].values[:, row, col]),\n",
    "                         np.array(rbow['red'].values[:, row, col]),\n",
    "                         np.array(rbow['nir'].values[:, row, col]),\n",
    "                         np.array(rbow['swir1'].values[:, row, col]),\n",
    "                         np.array(rbow['swir2'].values[:, row, col]),\n",
    "                         np.array(rbow['thermal'].values[:, row, col]),\n",
    "                         np.array(rbow['cfmask'].values[:, row, col], dtype=int),\n",
    "                         params={})\n",
    "    if result:\n",
    "        return True"
   ]
  },
  {
   "cell_type": "code",
   "execution_count": 5,
   "metadata": {
    "collapsed": true
   },
   "outputs": [],
   "source": [
    "import profile"
   ]
  },
  {
   "cell_type": "code",
   "execution_count": 6,
   "metadata": {},
   "outputs": [
    {
     "name": "stderr",
     "output_type": "stream",
     "text": [
      "/home/caustin/miniconda2/envs/ccd35/lib/python3.5/site-packages/sklearn/linear_model/coordinate_descent.py:484: ConvergenceWarning: Objective did not converge. You might want to increase the number of iterations. Fitting data with very small alpha may cause precision problems.\n",
      "  ConvergenceWarning)\n"
     ]
    }
   ],
   "source": [
    "profile.run('run_d()', filename=\"baseline_{}.stats\".format(datetime.now().strftime(\"%m-%d_%H:%M\")))"
   ]
  },
  {
   "cell_type": "code",
   "execution_count": 15,
   "metadata": {},
   "outputs": [
    {
     "data": {
      "text/plain": [
       "'07-18_13:33'"
      ]
     },
     "execution_count": 15,
     "metadata": {},
     "output_type": "execute_result"
    }
   ],
   "source": []
  },
  {
   "cell_type": "code",
   "execution_count": 5,
   "metadata": {},
   "outputs": [
    {
     "data": {
      "text/plain": [
       "array([[ 0.,  0.,  0.,  0.,  0.,  0.,  0.],\n",
       "       [ 0.,  0.,  0.,  0.,  0.,  0.,  0.],\n",
       "       [ 0.,  0.,  0.,  0.,  0.,  0.,  0.],\n",
       "       [ 0.,  0.,  0.,  0.,  0.,  0.,  0.],\n",
       "       [ 0.,  0.,  0.,  0.,  0.,  0.,  0.],\n",
       "       [ 0.,  0.,  0.,  0.,  0.,  0.,  0.],\n",
       "       [ 0.,  0.,  0.,  0.,  0.,  0.,  0.],\n",
       "       [ 0.,  0.,  0.,  0.,  0.,  0.,  0.],\n",
       "       [ 0.,  0.,  0.,  0.,  0.,  0.,  0.],\n",
       "       [ 0.,  0.,  0.,  0.,  0.,  0.,  0.],\n",
       "       [ 0.,  0.,  0.,  0.,  0.,  0.,  0.],\n",
       "       [ 0.,  0.,  0.,  0.,  0.,  0.,  0.]])"
      ]
     },
     "execution_count": 5,
     "metadata": {},
     "output_type": "execute_result"
    }
   ],
   "source": [
    "dates = np.array([724232, 724400, 724432, 724448, 724464, 724496, 724576, 724624, 724800, 724848, 724864, 724896])\n",
    "matrix = np.zeros(shape=(len(dates), 7), order='F')\n",
    "matrix"
   ]
  },
  {
   "cell_type": "code",
   "execution_count": 7,
   "metadata": {},
   "outputs": [
    {
     "data": {
      "text/plain": [
       "['T',\n",
       " '__abs__',\n",
       " '__add__',\n",
       " '__and__',\n",
       " '__array__',\n",
       " '__array_finalize__',\n",
       " '__array_interface__',\n",
       " '__array_prepare__',\n",
       " '__array_priority__',\n",
       " '__array_struct__',\n",
       " '__array_wrap__',\n",
       " '__bool__',\n",
       " '__class__',\n",
       " '__complex__',\n",
       " '__contains__',\n",
       " '__copy__',\n",
       " '__deepcopy__',\n",
       " '__delattr__',\n",
       " '__delitem__',\n",
       " '__dir__',\n",
       " '__divmod__',\n",
       " '__doc__',\n",
       " '__eq__',\n",
       " '__float__',\n",
       " '__floordiv__',\n",
       " '__format__',\n",
       " '__ge__',\n",
       " '__getattribute__',\n",
       " '__getitem__',\n",
       " '__gt__',\n",
       " '__hash__',\n",
       " '__iadd__',\n",
       " '__iand__',\n",
       " '__ifloordiv__',\n",
       " '__ilshift__',\n",
       " '__imatmul__',\n",
       " '__imod__',\n",
       " '__imul__',\n",
       " '__index__',\n",
       " '__init__',\n",
       " '__int__',\n",
       " '__invert__',\n",
       " '__ior__',\n",
       " '__ipow__',\n",
       " '__irshift__',\n",
       " '__isub__',\n",
       " '__iter__',\n",
       " '__itruediv__',\n",
       " '__ixor__',\n",
       " '__le__',\n",
       " '__len__',\n",
       " '__lshift__',\n",
       " '__lt__',\n",
       " '__matmul__',\n",
       " '__mod__',\n",
       " '__mul__',\n",
       " '__ne__',\n",
       " '__neg__',\n",
       " '__new__',\n",
       " '__or__',\n",
       " '__pos__',\n",
       " '__pow__',\n",
       " '__radd__',\n",
       " '__rand__',\n",
       " '__rdivmod__',\n",
       " '__reduce__',\n",
       " '__reduce_ex__',\n",
       " '__repr__',\n",
       " '__rfloordiv__',\n",
       " '__rlshift__',\n",
       " '__rmatmul__',\n",
       " '__rmod__',\n",
       " '__rmul__',\n",
       " '__ror__',\n",
       " '__rpow__',\n",
       " '__rrshift__',\n",
       " '__rshift__',\n",
       " '__rsub__',\n",
       " '__rtruediv__',\n",
       " '__rxor__',\n",
       " '__setattr__',\n",
       " '__setitem__',\n",
       " '__setstate__',\n",
       " '__sizeof__',\n",
       " '__str__',\n",
       " '__sub__',\n",
       " '__subclasshook__',\n",
       " '__truediv__',\n",
       " '__xor__',\n",
       " 'all',\n",
       " 'any',\n",
       " 'argmax',\n",
       " 'argmin',\n",
       " 'argpartition',\n",
       " 'argsort',\n",
       " 'astype',\n",
       " 'base',\n",
       " 'byteswap',\n",
       " 'choose',\n",
       " 'clip',\n",
       " 'compress',\n",
       " 'conj',\n",
       " 'conjugate',\n",
       " 'copy',\n",
       " 'ctypes',\n",
       " 'cumprod',\n",
       " 'cumsum',\n",
       " 'data',\n",
       " 'diagonal',\n",
       " 'dot',\n",
       " 'dtype',\n",
       " 'dump',\n",
       " 'dumps',\n",
       " 'fill',\n",
       " 'flags',\n",
       " 'flat',\n",
       " 'flatten',\n",
       " 'getfield',\n",
       " 'imag',\n",
       " 'item',\n",
       " 'itemset',\n",
       " 'itemsize',\n",
       " 'max',\n",
       " 'mean',\n",
       " 'min',\n",
       " 'nbytes',\n",
       " 'ndim',\n",
       " 'newbyteorder',\n",
       " 'nonzero',\n",
       " 'partition',\n",
       " 'prod',\n",
       " 'ptp',\n",
       " 'put',\n",
       " 'ravel',\n",
       " 'real',\n",
       " 'repeat',\n",
       " 'reshape',\n",
       " 'resize',\n",
       " 'round',\n",
       " 'searchsorted',\n",
       " 'setfield',\n",
       " 'setflags',\n",
       " 'shape',\n",
       " 'size',\n",
       " 'sort',\n",
       " 'squeeze',\n",
       " 'std',\n",
       " 'strides',\n",
       " 'sum',\n",
       " 'swapaxes',\n",
       " 'take',\n",
       " 'tobytes',\n",
       " 'tofile',\n",
       " 'tolist',\n",
       " 'tostring',\n",
       " 'trace',\n",
       " 'transpose',\n",
       " 'var',\n",
       " 'view']"
      ]
     },
     "execution_count": 7,
     "metadata": {},
     "output_type": "execute_result"
    }
   ],
   "source": [
    "dir(matrix)"
   ]
  },
  {
   "cell_type": "code",
   "execution_count": 8,
   "metadata": {},
   "outputs": [
    {
     "data": {
      "text/plain": [
       "2"
      ]
     },
     "execution_count": 8,
     "metadata": {},
     "output_type": "execute_result"
    }
   ],
   "source": [
    "matrix.ndim"
   ]
  },
  {
   "cell_type": "code",
   "execution_count": 9,
   "metadata": {},
   "outputs": [
    {
     "data": {
      "text/plain": [
       "numpy.float64"
      ]
     },
     "execution_count": 9,
     "metadata": {},
     "output_type": "execute_result"
    }
   ],
   "source": [
    "type(matrix[0][0])"
   ]
  },
  {
   "cell_type": "code",
   "execution_count": 10,
   "metadata": {
    "collapsed": true
   },
   "outputs": [],
   "source": [
    "avg_days_yr = 365.25\n",
    "w = 2 * np.pi / avg_days_yr\n",
    "matrix[:, 0] = dates\n",
    "matrix[:, 1] = np.cos(w * dates)\n",
    "matrix[:, 2] = np.sin(w * dates)"
   ]
  },
  {
   "cell_type": "code",
   "execution_count": 11,
   "metadata": {},
   "outputs": [
    {
     "data": {
      "text/plain": [
       "array([[  7.24232000e+05,   5.31316606e-01,  -8.47173337e-01,\n",
       "          0.00000000e+00,   0.00000000e+00,   0.00000000e+00,\n",
       "          0.00000000e+00],\n",
       "       [  7.24400000e+05,  -3.03695038e-01,   9.52769292e-01,\n",
       "          0.00000000e+00,   0.00000000e+00,   0.00000000e+00,\n",
       "          0.00000000e+00],\n",
       "       [  7.24432000e+05,  -7.57219819e-01,   6.53160122e-01,\n",
       "          0.00000000e+00,   0.00000000e+00,   0.00000000e+00,\n",
       "          0.00000000e+00],\n",
       "       [  7.24448000e+05,  -9.06232043e-01,   4.22780658e-01,\n",
       "          0.00000000e+00,   0.00000000e+00,   0.00000000e+00,\n",
       "          0.00000000e+00],\n",
       "       [  7.24464000e+05,  -9.87023716e-01,   1.60574545e-01,\n",
       "          0.00000000e+00,   0.00000000e+00,   0.00000000e+00,\n",
       "          0.00000000e+00],\n",
       "       [  7.24496000e+05,  -9.25211078e-01,  -3.79452844e-01,\n",
       "          0.00000000e+00,   0.00000000e+00,   0.00000000e+00,\n",
       "          0.00000000e+00],\n",
       "       [  7.24576000e+05,   1.93376474e-01,  -9.81124630e-01,\n",
       "          0.00000000e+00,   0.00000000e+00,   0.00000000e+00,\n",
       "          0.00000000e+00],\n",
       "       [  7.24624000e+05,   8.52274809e-01,  -5.23094303e-01,\n",
       "          0.00000000e+00,   0.00000000e+00,   0.00000000e+00,\n",
       "          0.00000000e+00],\n",
       "       [  7.24800000e+05,  -7.87259982e-01,   6.16621213e-01,\n",
       "          0.00000000e+00,   0.00000000e+00,   0.00000000e+00,\n",
       "          0.00000000e+00],\n",
       "       [  7.24848000e+05,  -9.87023716e-01,  -1.60574545e-01,\n",
       "          0.00000000e+00,   0.00000000e+00,   0.00000000e+00,\n",
       "          0.00000000e+00],\n",
       "       [  7.24864000e+05,  -9.06232043e-01,  -4.22780658e-01,\n",
       "          0.00000000e+00,   0.00000000e+00,   0.00000000e+00,\n",
       "          0.00000000e+00],\n",
       "       [  7.24896000e+05,  -5.51204587e-01,  -8.34370124e-01,\n",
       "          0.00000000e+00,   0.00000000e+00,   0.00000000e+00,\n",
       "          0.00000000e+00]])"
      ]
     },
     "execution_count": 11,
     "metadata": {},
     "output_type": "execute_result"
    }
   ],
   "source": [
    "matrix"
   ]
  },
  {
   "cell_type": "code",
   "execution_count": 15,
   "metadata": {},
   "outputs": [
    {
     "data": {
      "text/plain": [
       "numpy.float64"
      ]
     },
     "execution_count": 15,
     "metadata": {},
     "output_type": "execute_result"
    }
   ],
   "source": [
    "type(matrix[:, 1][0])"
   ]
  },
  {
   "cell_type": "code",
   "execution_count": 13,
   "metadata": {},
   "outputs": [
    {
     "data": {
      "text/plain": [
       "array([ 0.53131661, -0.30369504, -0.75721982, -0.90623204, -0.98702372,\n",
       "       -0.92521108,  0.19337647,  0.85227481, -0.78725998, -0.98702372,\n",
       "       -0.90623204, -0.55120459])"
      ]
     },
     "execution_count": 13,
     "metadata": {},
     "output_type": "execute_result"
    }
   ],
   "source": [
    "np.cos(w * dates)"
   ]
  },
  {
   "cell_type": "code",
   "execution_count": null,
   "metadata": {
    "collapsed": true
   },
   "outputs": [],
   "source": []
  }
 ],
 "metadata": {
  "kernelspec": {
   "display_name": "Python 3",
   "language": "python",
   "name": "python3"
  },
  "language_info": {
   "codemirror_mode": {
    "name": "ipython",
    "version": 3
   },
   "file_extension": ".py",
   "mimetype": "text/x-python",
   "name": "python",
   "nbconvert_exporter": "python",
   "pygments_lexer": "ipython3",
   "version": "3.5.3"
  }
 },
 "nbformat": 4,
 "nbformat_minor": 2
}
