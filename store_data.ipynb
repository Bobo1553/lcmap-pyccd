{
 "cells": [
  {
   "cell_type": "code",
   "execution_count": 1,
   "metadata": {},
   "outputs": [
    {
     "name": "stdout",
     "output_type": "stream",
     "text": [
      "took: 15.887416\n"
     ]
    }
   ],
   "source": [
    "import json, os\n",
    "import ccd\n",
    "import numpy as np\n",
    "import pandas as pd\n",
    "from datetime import datetime\n",
    "from test.shared import snap, rainbow\n",
    "\n",
    "from numba import jit\n",
    "# detect results for x, y: -2094435, 1681005 took 2.455234 seconds to generate  VERIFIED 2.6 seconds locally\n",
    "# detect results for x, y: -2033595, 1685955 took 1.879693 seconds to generate\n",
    "# detect results for x, y: -2098875, 1694895 took 0.986887 seconds to generate  VERIFIED 1.8 seconds locally\n",
    "pixl_x, pixl_y = -2094435, 1681005\n",
    "pixl_x, pixl_y = -2098875, 1694895\n",
    "\n",
    "inputs_url = \"https://lcmaphost.com?x={x}&y={y}&acquired=1982-01-01/2015-12-31\\\n",
    "&ubid=LANDSAT_4/TM/SRB1&ubid=LANDSAT_4/TM/SRB2&ubid=LANDSAT_4/TM/SRB3&ubid=LANDSAT_4/TM/SRB4\\\n",
    "&ubid=LANDSAT_4/TM/SRB5&ubid=LANDSAT_4/TM/BTB6&ubid=LANDSAT_4/TM/SRB7&ubid=LANDSAT_4/TM/PIXELQA\\\n",
    "&ubid=LANDSAT_5/TM/SRB1&ubid=LANDSAT_5/TM/SRB2&ubid=LANDSAT_5/TM/SRB3&ubid=LANDSAT_5/TM/SRB4\\\n",
    "&ubid=LANDSAT_5/TM/SRB5&ubid=LANDSAT_5/TM/BTB6&ubid=LANDSAT_5/TM/SRB7&ubid=LANDSAT_5/TM/PIXELQA\\\n",
    "&ubid=LANDSAT_7/ETM/SRB1&ubid=LANDSAT_7/ETM/SRB2&ubid=LANDSAT_7/ETM/SRB3&ubid=LANDSAT_7/ETM/SRB4\\\n",
    "&ubid=LANDSAT_7/ETM/SRB5&ubid=LANDSAT_7/ETM/BTB6&ubid=LANDSAT_7/ETM/SRB7&ubid=LANDSAT_7/ETM/PIXELQA\\\n",
    "&ubid=LANDSAT_8/OLI_TIRS/SRB2&ubid=LANDSAT_8/OLI_TIRS/SRB3&ubid=LANDSAT_8/OLI_TIRS/SRB4&ubid=LANDSAT_8/OLI_TIRS/SRB5\\\n",
    "&ubid=LANDSAT_8/OLI_TIRS/SRB6&ubid=LANDSAT_8/OLI_TIRS/SRB7&ubid=LANDSAT_8/OLI_TIRS/BTB10\\\n",
    "&ubid=LANDSAT_8/OLI_TIRS/PIXELQA\".format(x=pixl_x, y=pixl_y)\n",
    "\n",
    "dates           = [i.split('=')[1] for i in inputs_url.split('&') if 'acquired=' in i][0]\n",
    "chips_url       = inputs_url.split('?')[0]\n",
    "specs_url       = chips_url.replace('/chips', '/chip-specs')\n",
    "querystr_list   = inputs_url.split('?')[1].split('&')\n",
    "requested_ubids = [i.replace('ubid=', '') for i in querystr_list if 'ubid=' in i]\n",
    "\n",
    "# get chip id\n",
    "chip_x, chip_y = snap(pixl_x, pixl_y)\n",
    "xindex = int((pixl_x - chip_x) / 30)\n",
    "yindex = int((chip_y - pixl_y) / 30)\n",
    "_start = datetime.now()\n",
    "rbow = rainbow(-2094585, 1682805, dates, specs_url, chips_url, requested_ubids)\n",
    "print(\"took: {}\".format((datetime.now() - _start).total_seconds()))\n",
    "\n",
    "@jit\n",
    "def dtstr_to_ordinal(dtstr, iso=True):\n",
    "    \"\"\" Return ordinal from string formatted date\"\"\"\n",
    "    _fmt = '%Y-%m-%dT%H:%M:%SZ' if iso else '%Y-%m-%d %H:%M:%S'\n",
    "    _dt = datetime.strptime(dtstr, _fmt)\n",
    "    return _dt.toordinal()"
   ]
  },
  {
   "cell_type": "code",
   "execution_count": 2,
   "metadata": {},
   "outputs": [
    {
     "ename": "AttributeError",
     "evalue": "'_DisableJitWrapper' object has no attribute '__name__'",
     "output_type": "error",
     "traceback": [
      "\u001b[0;31m---------------------------------------------------------------------------\u001b[0m",
      "\u001b[0;31mAttributeError\u001b[0m                            Traceback (most recent call last)",
      "\u001b[0;32m<ipython-input-2-d19363ac681f>\u001b[0m in \u001b[0;36m<module>\u001b[0;34m()\u001b[0m\n\u001b[1;32m     11\u001b[0m                      \u001b[0mnp\u001b[0m\u001b[0;34m.\u001b[0m\u001b[0marray\u001b[0m\u001b[0;34m(\u001b[0m\u001b[0mrbow\u001b[0m\u001b[0;34m[\u001b[0m\u001b[0;34m'thermal'\u001b[0m\u001b[0;34m]\u001b[0m\u001b[0;34m.\u001b[0m\u001b[0mvalues\u001b[0m\u001b[0;34m[\u001b[0m\u001b[0;34m:\u001b[0m\u001b[0;34m,\u001b[0m \u001b[0mrow\u001b[0m\u001b[0;34m,\u001b[0m \u001b[0mcol\u001b[0m\u001b[0;34m]\u001b[0m\u001b[0;34m)\u001b[0m\u001b[0;34m,\u001b[0m\u001b[0;34m\u001b[0m\u001b[0m\n\u001b[1;32m     12\u001b[0m                      \u001b[0mnp\u001b[0m\u001b[0;34m.\u001b[0m\u001b[0marray\u001b[0m\u001b[0;34m(\u001b[0m\u001b[0mrbow\u001b[0m\u001b[0;34m[\u001b[0m\u001b[0;34m'cfmask'\u001b[0m\u001b[0;34m]\u001b[0m\u001b[0;34m.\u001b[0m\u001b[0mvalues\u001b[0m\u001b[0;34m[\u001b[0m\u001b[0;34m:\u001b[0m\u001b[0;34m,\u001b[0m \u001b[0mrow\u001b[0m\u001b[0;34m,\u001b[0m \u001b[0mcol\u001b[0m\u001b[0;34m]\u001b[0m\u001b[0;34m,\u001b[0m \u001b[0mdtype\u001b[0m\u001b[0;34m=\u001b[0m\u001b[0mint\u001b[0m\u001b[0;34m)\u001b[0m\u001b[0;34m,\u001b[0m\u001b[0;34m\u001b[0m\u001b[0m\n\u001b[0;32m---> 13\u001b[0;31m                      params={})\n\u001b[0m\u001b[1;32m     14\u001b[0m \u001b[0mprint\u001b[0m\u001b[0;34m(\u001b[0m\u001b[0;34m\"took: {}\"\u001b[0m\u001b[0;34m.\u001b[0m\u001b[0mformat\u001b[0m\u001b[0;34m(\u001b[0m\u001b[0;34m(\u001b[0m\u001b[0mdatetime\u001b[0m\u001b[0;34m.\u001b[0m\u001b[0mnow\u001b[0m\u001b[0;34m(\u001b[0m\u001b[0;34m)\u001b[0m \u001b[0;34m-\u001b[0m \u001b[0m_start\u001b[0m\u001b[0;34m)\u001b[0m\u001b[0;34m.\u001b[0m\u001b[0mtotal_seconds\u001b[0m\u001b[0;34m(\u001b[0m\u001b[0;34m)\u001b[0m\u001b[0;34m)\u001b[0m\u001b[0;34m)\u001b[0m\u001b[0;34m\u001b[0m\u001b[0m\n",
      "\u001b[0;32m~/workspace/lcmap-pyccd/ccd/__init__.py\u001b[0m in \u001b[0;36mdetect\u001b[0;34m(dates, blues, greens, reds, nirs, swir1s, swir2s, thermals, quality, params)\u001b[0m\n\u001b[1;32m    168\u001b[0m \u001b[0;34m\u001b[0m\u001b[0m\n\u001b[1;32m    169\u001b[0m     \u001b[0;31m# Determine which procedure to use for the detection\u001b[0m\u001b[0;34m\u001b[0m\u001b[0;34m\u001b[0m\u001b[0m\n\u001b[0;32m--> 170\u001b[0;31m     \u001b[0mprocedure\u001b[0m \u001b[0;34m=\u001b[0m \u001b[0m__determine_fit_procedure\u001b[0m\u001b[0;34m(\u001b[0m\u001b[0mquality\u001b[0m\u001b[0;34m,\u001b[0m \u001b[0mproc_params\u001b[0m\u001b[0;34m)\u001b[0m\u001b[0;34m\u001b[0m\u001b[0m\n\u001b[0m\u001b[1;32m    171\u001b[0m \u001b[0;34m\u001b[0m\u001b[0m\n\u001b[1;32m    172\u001b[0m     \u001b[0mresults\u001b[0m \u001b[0;34m=\u001b[0m \u001b[0mprocedure\u001b[0m\u001b[0;34m(\u001b[0m\u001b[0mdates\u001b[0m\u001b[0;34m,\u001b[0m \u001b[0mspectra\u001b[0m\u001b[0;34m,\u001b[0m \u001b[0mfitter_fn\u001b[0m\u001b[0;34m,\u001b[0m \u001b[0mquality\u001b[0m\u001b[0;34m,\u001b[0m \u001b[0mproc_params\u001b[0m\u001b[0;34m)\u001b[0m\u001b[0;34m\u001b[0m\u001b[0m\n",
      "\u001b[0;32m~/miniconda2/envs/ccd35/lib/python3.5/site-packages/numba/decorators.py\u001b[0m in \u001b[0;36m__call__\u001b[0;34m(self, *args, **kwargs)\u001b[0m\n\u001b[1;32m     32\u001b[0m \u001b[0;34m\u001b[0m\u001b[0m\n\u001b[1;32m     33\u001b[0m     \u001b[0;32mdef\u001b[0m \u001b[0m__call__\u001b[0m\u001b[0;34m(\u001b[0m\u001b[0mself\u001b[0m\u001b[0;34m,\u001b[0m \u001b[0;34m*\u001b[0m\u001b[0margs\u001b[0m\u001b[0;34m,\u001b[0m \u001b[0;34m**\u001b[0m\u001b[0mkwargs\u001b[0m\u001b[0;34m)\u001b[0m\u001b[0;34m:\u001b[0m\u001b[0;34m\u001b[0m\u001b[0m\n\u001b[0;32m---> 34\u001b[0;31m         \u001b[0;32mreturn\u001b[0m \u001b[0mself\u001b[0m\u001b[0;34m.\u001b[0m\u001b[0mpy_func\u001b[0m\u001b[0;34m(\u001b[0m\u001b[0;34m*\u001b[0m\u001b[0margs\u001b[0m\u001b[0;34m,\u001b[0m \u001b[0;34m**\u001b[0m\u001b[0mkwargs\u001b[0m\u001b[0;34m)\u001b[0m\u001b[0;34m\u001b[0m\u001b[0m\n\u001b[0m\u001b[1;32m     35\u001b[0m \u001b[0;34m\u001b[0m\u001b[0m\n\u001b[1;32m     36\u001b[0m \u001b[0;34m\u001b[0m\u001b[0m\n",
      "\u001b[0;32m~/workspace/lcmap-pyccd/ccd/procedures.py\u001b[0m in \u001b[0;36mfit_procedure\u001b[0;34m(quality, proc_params)\u001b[0m\n\u001b[1;32m     71\u001b[0m \u001b[0;34m\u001b[0m\u001b[0m\n\u001b[1;32m     72\u001b[0m     log.debug('Procedure selected: %s',\n\u001b[0;32m---> 73\u001b[0;31m               func.__name__)\n\u001b[0m\u001b[1;32m     74\u001b[0m \u001b[0;34m\u001b[0m\u001b[0m\n\u001b[1;32m     75\u001b[0m     \u001b[0;32mreturn\u001b[0m \u001b[0mfunc\u001b[0m\u001b[0;34m\u001b[0m\u001b[0m\n",
      "\u001b[0;31mAttributeError\u001b[0m: '_DisableJitWrapper' object has no attribute '__name__'"
     ]
    }
   ],
   "source": [
    "row, col = yindex, xindex\n",
    "rainbow_date_array = np.array(rbow['t'].values)\n",
    "_start = datetime.now()\n",
    "result =  ccd.detect([dtstr_to_ordinal(str(pd.to_datetime(i)), False) for i in rainbow_date_array],\n",
    "                     np.array(rbow['blue'].values[:, row, col]),\n",
    "                     np.array(rbow['green'].values[:, row, col]),\n",
    "                     np.array(rbow['red'].values[:, row, col]),\n",
    "                     np.array(rbow['nir'].values[:, row, col]),\n",
    "                     np.array(rbow['swir1'].values[:, row, col]),\n",
    "                     np.array(rbow['swir2'].values[:, row, col]),\n",
    "                     np.array(rbow['thermal'].values[:, row, col]),\n",
    "                     np.array(rbow['cfmask'].values[:, row, col], dtype=int),\n",
    "                     params={})\n",
    "print(\"took: {}\".format((datetime.now() - _start).total_seconds()))"
   ]
  },
  {
   "cell_type": "code",
   "execution_count": 2,
   "metadata": {},
   "outputs": [
    {
     "name": "stderr",
     "output_type": "stream",
     "text": [
      "/home/caustin/miniconda2/envs/ccd35/lib/python3.5/site-packages/sklearn/linear_model/coordinate_descent.py:484: ConvergenceWarning: Objective did not converge. You might want to increase the number of iterations. Fitting data with very small alpha may cause precision problems.\n",
      "  ConvergenceWarning)\n"
     ]
    },
    {
     "name": "stdout",
     "output_type": "stream",
     "text": [
      "took: 15165.333728\n"
     ]
    }
   ],
   "source": [
    "rainbow_date_array = np.array(rbow['t'].values)\n",
    "_st = datetime.now()\n",
    "_results = []\n",
    "for _x in range(0, 100):\n",
    "    for _y in range(0, 100):\n",
    "        row = _y\n",
    "        col = _x        \n",
    "        result =  ccd.detect([dtstr_to_ordinal(str(pd.to_datetime(i)), False) for i in rainbow_date_array],\n",
    "                              np.array(rbow['blue'].values[:, row, col]),\n",
    "                              np.array(rbow['green'].values[:, row, col]),\n",
    "                              np.array(rbow['red'].values[:, row, col]),\n",
    "                              np.array(rbow['nir'].values[:, row, col]),\n",
    "                              np.array(rbow['swir1'].values[:, row, col]),\n",
    "                              np.array(rbow['swir2'].values[:, row, col]),\n",
    "                              np.array(rbow['thermal'].values[:, row, col]),\n",
    "                              np.array(rbow['cfmask'].values[:, row, col], dtype=int),\n",
    "                              params={})\n",
    "        if result:\n",
    "            _results.append((_x, _y))\n",
    "\n",
    "        \n",
    "print(\"took: {}\".format((datetime.now() - _st).total_seconds()))"
   ]
  },
  {
   "cell_type": "code",
   "execution_count": 4,
   "metadata": {},
   "outputs": [
    {
     "data": {
      "text/plain": [
       "4.2125"
      ]
     },
     "execution_count": 4,
     "metadata": {},
     "output_type": "execute_result"
    }
   ],
   "source": [
    "15165 / 60 / 60"
   ]
  },
  {
   "cell_type": "code",
   "execution_count": null,
   "metadata": {
    "collapsed": true
   },
   "outputs": [],
   "source": []
  }
 ],
 "metadata": {
  "kernelspec": {
   "display_name": "Python 3",
   "language": "python",
   "name": "python3"
  },
  "language_info": {
   "codemirror_mode": {
    "name": "ipython",
    "version": 3
   },
   "file_extension": ".py",
   "mimetype": "text/x-python",
   "name": "python",
   "nbconvert_exporter": "python",
   "pygments_lexer": "ipython3",
   "version": "3.5.3"
  }
 },
 "nbformat": 4,
 "nbformat_minor": 2
}
