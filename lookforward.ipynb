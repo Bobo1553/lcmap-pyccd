{
 "cells": [
  {
   "cell_type": "code",
   "execution_count": 1,
   "metadata": {
    "collapsed": true
   },
   "outputs": [],
   "source": [
    "import time\n",
    "from ccd.procedures import fit_procedure as __determine_fit_procedure\n",
    "import numpy as np\n",
    "import pandas as pd\n",
    "from ccd import app, math_utils, qa, __check_inputs, __sort_dates, attr_from_str\n",
    "from datetime import datetime\n",
    "import importlib\n",
    "\n",
    "from test.shared import rainbow"
   ]
  },
  {
   "cell_type": "code",
   "execution_count": 2,
   "metadata": {
    "collapsed": true
   },
   "outputs": [],
   "source": [
    "requested_ubids = ['LANDSAT_4/TM/SRB1', 'LANDSAT_4/TM/SRB2', 'LANDSAT_4/TM/SRB3', 'LANDSAT_4/TM/SRB4', 'LANDSAT_4/TM/SRB5', 'LANDSAT_4/TM/BTB6', 'LANDSAT_4/TM/SRB7', 'LANDSAT_4/TM/PIXELQA', 'LANDSAT_5/TM/SRB1', 'LANDSAT_5/TM/SRB2', 'LANDSAT_5/TM/SRB3', 'LANDSAT_5/TM/SRB4', 'LANDSAT_5/TM/SRB5', 'LANDSAT_5/TM/BTB6', 'LANDSAT_5/TM/SRB7', 'LANDSAT_5/TM/PIXELQA', 'LANDSAT_7/ETM/SRB1', 'LANDSAT_7/ETM/SRB2', 'LANDSAT_7/ETM/SRB3', 'LANDSAT_7/ETM/SRB4', 'LANDSAT_7/ETM/SRB5', 'LANDSAT_7/ETM/BTB6', 'LANDSAT_7/ETM/SRB7', 'LANDSAT_7/ETM/PIXELQA', 'LANDSAT_8/OLI_TIRS/SRB2', 'LANDSAT_8/OLI_TIRS/SRB3', 'LANDSAT_8/OLI_TIRS/SRB4', 'LANDSAT_8/OLI_TIRS/SRB5', 'LANDSAT_8/OLI_TIRS/SRB6', 'LANDSAT_8/OLI_TIRS/SRB7', 'LANDSAT_8/OLI_TIRS/BTB10', 'LANDSAT_8/OLI_TIRS/PIXELQA']\n",
    "specs_url  = 'foo'\n",
    "chips_url  = 'bar'\n",
    "acquired   = '1982-01-01/2015-12-31'\n",
    "x, y       = -2094585, 1682805\n",
    "xind, yind = 57, 97\n",
    "row, col   = yind, xind"
   ]
  },
  {
   "cell_type": "code",
   "execution_count": 3,
   "metadata": {
    "collapsed": true
   },
   "outputs": [],
   "source": [
    "rbow = rainbow(x, y, acquired, specs_url, chips_url, requested_ubids)"
   ]
  },
  {
   "cell_type": "code",
   "execution_count": 4,
   "metadata": {
    "collapsed": true
   },
   "outputs": [],
   "source": [
    "proc_params = app.get_default_params()"
   ]
  },
  {
   "cell_type": "code",
   "execution_count": 5,
   "metadata": {
    "collapsed": true
   },
   "outputs": [],
   "source": [
    "# dates\n",
    "def dtstr_to_ordinal(dtstr, iso=True):\n",
    "    \"\"\" Return ordinal from string formatted date\"\"\"\n",
    "    _fmt = '%Y-%m-%dT%H:%M:%SZ' if iso else '%Y-%m-%d %H:%M:%S'\n",
    "    _dt = datetime.strptime(dtstr, _fmt)\n",
    "    return _dt.toordinal()\n",
    "\n",
    "\n",
    "rainbow_date_array = np.array(rbow['t'].values)\n",
    "_dates = [dtstr_to_ordinal(str(pd.to_datetime(i)), False) for i in rainbow_date_array]\n",
    "\n",
    "# date handling with ccd.__init__::detect\n",
    "dates = np.asarray(_dates)"
   ]
  },
  {
   "cell_type": "code",
   "execution_count": 6,
   "metadata": {
    "collapsed": true
   },
   "outputs": [],
   "source": [
    "# quality\n",
    "_quality = np.array(rbow['cfmask'].values[:, row, col], dtype=int)\n",
    "\n",
    "# quality handling with ccd.__init__::detect\n",
    "quality = np.asarray(_quality)"
   ]
  },
  {
   "cell_type": "code",
   "execution_count": 7,
   "metadata": {
    "collapsed": true
   },
   "outputs": [],
   "source": [
    "# how bands passed to ccd.detect()\n",
    "blue    = np.array(rbow['blue'].values[:, row, col])\n",
    "green   = np.array(rbow['green'].values[:, row, col])\n",
    "red     = np.array(rbow['red'].values[:, row, col])\n",
    "nir     = np.array(rbow['nir'].values[:, row, col])\n",
    "swir1   = np.array(rbow['swir1'].values[:, row, col])\n",
    "swir2   = np.array(rbow['swir2'].values[:, row, col])\n",
    "thermal = np.array(rbow['thermal'].values[:, row, col])\n",
    "\n",
    "# how bands org'd within ccd.detect\n",
    "spectra = np.stack((blue, green, red, nir, swir1, swir2, thermal))"
   ]
  },
  {
   "cell_type": "code",
   "execution_count": 8,
   "metadata": {},
   "outputs": [
    {
     "data": {
      "text/plain": [
       "array([[ 20000.,      0.,    483., ...,      0.,      0.,      0.],\n",
       "       [  7767.,      0.,    568., ...,      0.,      0.,      0.],\n",
       "       [  7994.,      0.,    553., ...,      0.,      0.,      0.],\n",
       "       ..., \n",
       "       [  5586.,      0.,    151., ...,      0.,      0.,      0.],\n",
       "       [  4266.,      0.,    220., ...,      0.,      0.,      0.],\n",
       "       [  2477.,      0.,   2822., ...,      0.,      0.,      0.]])"
      ]
     },
     "execution_count": 8,
     "metadata": {},
     "output_type": "execute_result"
    }
   ],
   "source": [
    "spectra"
   ]
  },
  {
   "cell_type": "code",
   "execution_count": 9,
   "metadata": {
    "collapsed": true
   },
   "outputs": [],
   "source": [
    "__check_inputs(dates, quality, spectra)"
   ]
  },
  {
   "cell_type": "code",
   "execution_count": 10,
   "metadata": {
    "collapsed": true
   },
   "outputs": [],
   "source": [
    "indices = __sort_dates(dates)\n",
    "dates = dates[indices]\n",
    "spectra = spectra[:, indices]\n",
    "quality = quality[indices]"
   ]
  },
  {
   "cell_type": "code",
   "execution_count": 11,
   "metadata": {
    "collapsed": true
   },
   "outputs": [],
   "source": [
    "if proc_params.QA_BITPACKED is True:\n",
    "    quality = qa.unpackqa(quality, proc_params)"
   ]
  },
  {
   "cell_type": "code",
   "execution_count": 12,
   "metadata": {
    "collapsed": true
   },
   "outputs": [],
   "source": [
    "procedure = __determine_fit_procedure(quality, proc_params)"
   ]
  },
  {
   "cell_type": "code",
   "execution_count": 13,
   "metadata": {},
   "outputs": [
    {
     "data": {
      "text/plain": [
       "CPUDispatcher(<function standard_procedure at 0x7efdec374c80>)"
      ]
     },
     "execution_count": 13,
     "metadata": {},
     "output_type": "execute_result"
    }
   ],
   "source": [
    "procedure"
   ]
  },
  {
   "cell_type": "code",
   "execution_count": 14,
   "metadata": {
    "collapsed": true
   },
   "outputs": [],
   "source": [
    "fitter_fn = attr_from_str(proc_params.FITTER_FN)"
   ]
  },
  {
   "cell_type": "code",
   "execution_count": 15,
   "metadata": {},
   "outputs": [
    {
     "data": {
      "text/plain": [
       "'ccd.models.lasso.fitted_model'"
      ]
     },
     "execution_count": 15,
     "metadata": {},
     "output_type": "execute_result"
    }
   ],
   "source": [
    "proc_params.FITTER_FN"
   ]
  },
  {
   "cell_type": "code",
   "execution_count": 16,
   "metadata": {},
   "outputs": [],
   "source": [
    "#results = procedure(dates, spectra, fitter_fn, quality, proc_params)"
   ]
  },
  {
   "cell_type": "code",
   "execution_count": 17,
   "metadata": {
    "collapsed": true
   },
   "outputs": [],
   "source": [
    "from ccd import qa\n",
    "from ccd.change import enough_samples, enough_time,\\\n",
    "    update_processing_mask, stable, determine_num_coefs, calc_residuals, \\\n",
    "    find_closest_doy, change_magnitude, detect_change, detect_outlier\n",
    "from ccd.models import results_to_changemodel, tmask\n",
    "from ccd.math_utils import kelvin_to_celsius, adjusted_variogram, euclidean_norm\n",
    "\n",
    "from numba import jit"
   ]
  },
  {
   "cell_type": "code",
   "execution_count": 78,
   "metadata": {
    "collapsed": true
   },
   "outputs": [],
   "source": [
    "from collections import namedtuple\n",
    "\n",
    "ChangeModel = namedtuple('ChangeModel', ['start_day',\n",
    "                                         'end_day',\n",
    "                                         'break_day',\n",
    "                                         'observation_count',\n",
    "                                         'change_probability',\n",
    "                                         'curve_qa',\n",
    "                                         'blue',\n",
    "                                         'green',\n",
    "                                         'red',\n",
    "                                         'nir',\n",
    "                                         'swir1',\n",
    "                                         'swir2',\n",
    "                                         'thermal'])\n",
    "\n",
    "\n",
    "#@jit\n",
    "def lookforward2(dates, observations, model_window, fitter_fn, processing_mask, variogram, proc_params):\n",
    "    peek_size       = proc_params.PEEK_SIZE\n",
    "    coef_min        = proc_params.COEFFICIENT_MIN\n",
    "    coef_mid        = proc_params.COEFFICIENT_MID\n",
    "    coef_max        = proc_params.COEFFICIENT_MAX\n",
    "    num_obs_fact    = proc_params.NUM_OBS_FACTOR\n",
    "    detection_bands = proc_params.DETECTION_BANDS\n",
    "    change_thresh   = proc_params.CHANGE_THRESHOLD\n",
    "    outlier_thresh  = proc_params.OUTLIER_THRESHOLD\n",
    "    avg_days_yr     = proc_params.AVG_DAYS_YR\n",
    "    fit_max_iter    = proc_params.LASSO_MAX_ITER\n",
    "\n",
    "    # Step 4: lookforward.\n",
    "    # The second step is to update a model until observations that do not\n",
    "    # fit the model are found.\n",
    "    #log.debug('lookforward initial model window: %s', model_window)\n",
    "\n",
    "    # The fit_window pertains to which locations are used in the model\n",
    "    # regression, while the model_window identifies the locations in which\n",
    "    # fitted models apply to. They are not always the same.\n",
    "    fit_window = model_window\n",
    "\n",
    "    # Initialized for a check at the first iteration.\n",
    "    models = None\n",
    "\n",
    "    # Simple value to determine if change has occured or not. Change may not\n",
    "    # have occurred if we reach the end of the time series.\n",
    "    change = 0\n",
    "\n",
    "    # Initial subset of the data\n",
    "    period       = dates[processing_mask]\n",
    "    spectral_obs = observations[:, processing_mask]\n",
    "\n",
    "    # Used for comparison purposes\n",
    "    fit_span = period[model_window.stop - 1] - period[model_window.start]\n",
    "\n",
    "    # stop is always exclusive\n",
    "    while model_window.stop + peek_size < period.shape[0] or models is None:\n",
    "        \n",
    "        num_coefs = determine_num_coefs(period[model_window], coef_min,\n",
    "                                        coef_mid, coef_max, num_obs_fact)\n",
    "        #print(\"num_coefs type, val: {} {}\".format(type(num_coefs), num_coefs))\n",
    "        #num_coefs = 4\n",
    "        \n",
    "        peek_window = slice(model_window.stop, model_window.stop + peek_size)\n",
    "\n",
    "        # Used for comparison against fit_span\n",
    "        model_span = period[model_window.stop - 1] - period[model_window.start]\n",
    "        \n",
    "        #-----\n",
    "        \n",
    "        if not models or model_window.stop - model_window.start < 24:\n",
    "            fit_span = period[model_window.stop - 1] - period[model_window.start]\n",
    "\n",
    "            fit_window = model_window\n",
    "            #log.debug('Retrain models, less than 24 samples')\n",
    "            #models = [fitter_fn(period[fit_window], spectrum,\n",
    "            #                    fit_max_iter, avg_days_yr, num_coefs)\n",
    "            #          for spectrum in spectral_obs[:, fit_window]]\n",
    "            models = []\n",
    "            for spectrum in spectral_obs[:, fit_window]:\n",
    "                models.append(fitter_fn(period[fit_window], spectrum, fit_max_iter, avg_days_yr, num_coefs))\n",
    "\n",
    "            # residuals = np.array([calc_residuals(period[peek_window],\n",
    "            #                                      spectral_obs[idx, peek_window],\n",
    "            #                                      models[idx], avg_days_yr)\n",
    "            #                       for idx in range(observations.shape[0])])\n",
    "            _residuals = []\n",
    "            for idx in range(observations.shape[0]):\n",
    "                _residuals.append(calc_residuals(period[peek_window],\n",
    "                                                 spectral_obs[idx, peek_window],\n",
    "                                                 models[idx], avg_days_yr))\n",
    "            residuals = np.array(_residuals)\n",
    "\n",
    "            #comp_rmse = [models[idx].rmse for idx in detection_bands]\n",
    "            comp_rmse = []\n",
    "            for idx in detection_bands:\n",
    "                comp_rmse.append(models[idx].rmse)\n",
    "\n",
    "\n",
    "        # More than 24 points\n",
    "        else:\n",
    "            # If the number of observations that the current fitted models\n",
    "            # expand past a threshold, then we need to fit new ones.\n",
    "            # The 1.33 should be parametrized at some point.\n",
    "            if model_span >= 1.33 * fit_span:\n",
    "                #log.debug('Retrain models, model_span: %s fit_span: %s', model_span, fit_span)\n",
    "                fit_span = period[model_window.stop - 1] - period[model_window.start]\n",
    "                fit_window = model_window\n",
    "\n",
    "                #models = [fitter_fn(period[fit_window], spectrum,\n",
    "                #                    fit_max_iter, avg_days_yr, num_coefs)\n",
    "                #          for spectrum in spectral_obs[:, fit_window]]\n",
    "                models = []\n",
    "                for spectrum in spectral_obs[:, fit_window]:\n",
    "                    models.append(fitter_fn(period[fit_window],\n",
    "                                            spectrum,\n",
    "                                            fit_max_iter,\n",
    "                                            avg_days_yr,\n",
    "                                            num_coefs))\n",
    "                    \n",
    "             # residuals = np.array([calc_residuals(period[peek_window],\n",
    "            #                                      spectral_obs[idx, peek_window],\n",
    "            #                                      models[idx], avg_days_yr)\n",
    "            #                       for idx in range(observations.shape[0])])\n",
    "            _residuals = []\n",
    "            for idx in range(observations.shape[0]):\n",
    "                _residuals.append(calc_residuals(period[peek_window],\n",
    "                                                 spectral_obs[idx, peek_window],\n",
    "                                                 models[idx], avg_days_yr))\n",
    "            residuals = np.array(_residuals)\n",
    "            \n",
    "            # We want to use the closest residual values to the peek_window\n",
    "            # values based on seasonality.\n",
    "            closest_indexes = find_closest_doy(period, peek_window.stop - 1, fit_window, 24)\n",
    "\n",
    "            # Calculate an RMSE for the seasonal residual values, using 8\n",
    "            # as the degrees of freedom.\n",
    "            # comp_rmse = [euclidean_norm(models[idx].residual[closest_indexes]) / 4\n",
    "            #              for idx in detection_bands]\n",
    "            comp_rmse = []\n",
    "            for idx in detection_bands:\n",
    "                comp_rmse.append(euclidean_norm(models[idx].residual[closest_indexes]) / 4)\n",
    "                \n",
    "                \n",
    "        # Calculate the change magnitude values for each observation in the\n",
    "        # peek_window.\n",
    "        magnitude = change_magnitude(residuals[detection_bands, :],\n",
    "                                     variogram[detection_bands],\n",
    "                                     comp_rmse)\n",
    "        \n",
    "        if detect_change(magnitude, change_thresh):\n",
    "            #log.debug('Change detected at: %s', peek_window.start)\n",
    "\n",
    "            # Change was detected, return to parent method\n",
    "            change = 1\n",
    "            break\n",
    "        elif detect_outlier(magnitude[0], outlier_thresh):\n",
    "            #log.debug('Outlier detected at: %s', peek_window.start)\n",
    "\n",
    "            # Keep track of any outliers so they will be excluded from future\n",
    "            # processing steps\n",
    "            processing_mask = update_processing_mask(processing_mask,\n",
    "                                                     peek_window.start)\n",
    "\n",
    "            # Because only one value was excluded, we shouldn't need to adjust\n",
    "            # the model_window.  The location hasn't been used in\n",
    "            # processing yet. So, the next iteration can use the same windows\n",
    "            # without issue.\n",
    "            period = dates[processing_mask]\n",
    "            spectral_obs = observations[:, processing_mask]\n",
    "            continue\n",
    "\n",
    "        model_window = slice(model_window.start, model_window.stop + 1)\n",
    "    \n",
    "    print(\"** residuals: {}\".format(residuals))\n",
    "    nc = determine_num_coefs(period[model_window], coef_min, coef_mid, coef_max, num_obs_fact)\n",
    "    result = results_to_changemodel(fitted_models=models,\n",
    "                                    start_day=period[model_window.start],\n",
    "                                    end_day=period[model_window.stop - 1],\n",
    "                                    break_day=period[model_window.stop],\n",
    "                                    magnitudes=np.median(residuals),\n",
    "                                    observation_count=(model_window.stop - model_window.start),\n",
    "                                    change_probability=change,\n",
    "                                    curve_qa=nc)\n",
    "\n",
    "        \n",
    "        #------\n",
    "    #s = peek_window.start    \n",
    "    #result = ChangeModel(start_day=period[model_window.start],\n",
    "    #                     end_day=period[model_window.stop - 1],\n",
    "    #                     break_day=model_window.stop, # jit balks at peek_window.start \n",
    "    #                     observation_count=(model_window.stop - model_window.start),\n",
    "    #                     change_probability=change,\n",
    "    #                     curve_qa=determine_num_coefs(period[model_window], coef_min, coef_mid, coef_max, num_obs_fact),\n",
    "    #                     blue=6,\n",
    "    #                     green=6,\n",
    "    #                     red=6,\n",
    "    #                     nir=6,\n",
    "    #                     swir1=6,\n",
    "    #                     swir2=6,\n",
    "    #                     thermal=6)    \n",
    "        \n",
    "        \n",
    "                \n",
    "    return processing_mask, model_window, result\n",
    "    "
   ]
  },
  {
   "cell_type": "code",
   "execution_count": 20,
   "metadata": {
    "collapsed": true
   },
   "outputs": [],
   "source": [
    "observations = spectra\n",
    "model_window = slice(24, 36, None)"
   ]
  },
  {
   "cell_type": "code",
   "execution_count": 21,
   "metadata": {
    "collapsed": true
   },
   "outputs": [],
   "source": [
    "#mock a processing_mask\n",
    "processing_mask = []\n",
    "for i in range(0, 2809):\n",
    "    if i % 2:\n",
    "        processing_mask.append(True)\n",
    "    else:\n",
    "        processing_mask.append(False)\n",
    "processing_mask = np.array(processing_mask)"
   ]
  },
  {
   "cell_type": "code",
   "execution_count": 22,
   "metadata": {
    "collapsed": true
   },
   "outputs": [],
   "source": [
    "variogram = np.array([ 161,  227,   304,  331,  399,  328,  820], dtype=float)"
   ]
  },
  {
   "cell_type": "code",
   "execution_count": 93,
   "metadata": {
    "collapsed": true
   },
   "outputs": [],
   "source": [
    "@jit\n",
    "def lookforward(dates, observations, model_window, fitter_fn, processing_mask,\n",
    "                variogram, proc_params):\n",
    "    \"\"\"Increase observation window until change is detected or\n",
    "    we are out of observations.\n",
    "\n",
    "    Args:\n",
    "        dates: list of ordinal day numbers relative to some epoch,\n",
    "            the particular epoch does not matter.\n",
    "        observations: spectral values, list of spectra -> values\n",
    "        model_window: span of indices that is represented in the current\n",
    "            process\n",
    "        fitter_fn: function used to model observations\n",
    "        processing_mask: 1-d boolean array identifying which values to\n",
    "            consider for processing\n",
    "        variogram: 1-d array of variogram values to compare against for the\n",
    "            normalization factor\n",
    "        proc_params: dictionary of processing parameters\n",
    "\n",
    "    Returns:\n",
    "        namedtuple: representation of the time segment\n",
    "        1-d bool ndarray: processing mask that may have been modified\n",
    "        slice: model window\n",
    "    \"\"\"\n",
    "    # TODO do this better\n",
    "    peek_size       = proc_params.PEEK_SIZE\n",
    "    coef_min        = proc_params.COEFFICIENT_MIN\n",
    "    coef_mid        = proc_params.COEFFICIENT_MID\n",
    "    coef_max        = proc_params.COEFFICIENT_MAX\n",
    "    num_obs_fact    = proc_params.NUM_OBS_FACTOR\n",
    "    detection_bands = proc_params.DETECTION_BANDS\n",
    "    change_thresh   = proc_params.CHANGE_THRESHOLD\n",
    "    outlier_thresh  = proc_params.OUTLIER_THRESHOLD\n",
    "    avg_days_yr     = proc_params.AVG_DAYS_YR\n",
    "    fit_max_iter    = proc_params.LASSO_MAX_ITER\n",
    "    \n",
    "    peek_window = None\n",
    "    residuals = None\n",
    "    num_coefs = None\n",
    "\n",
    "    # Step 4: lookforward.\n",
    "    # The second step is to update a model until observations that do not\n",
    "    # fit the model are found.\n",
    "    #log.debug('lookforward initial model window: %s', model_window)\n",
    "\n",
    "    # The fit_window pertains to which locations are used in the model\n",
    "    # regression, while the model_window identifies the locations in which\n",
    "    # fitted models apply to. They are not always the same.\n",
    "    fit_window = model_window\n",
    "\n",
    "    # Initialized for a check at the first iteration.\n",
    "    models = None\n",
    "\n",
    "    # Simple value to determine if change has occured or not. Change may not\n",
    "    # have occurred if we reach the end of the time series.\n",
    "    change = 0\n",
    "\n",
    "    # Initial subset of the data\n",
    "    period       = dates[processing_mask]\n",
    "    spectral_obs = observations[:, processing_mask]\n",
    "\n",
    "    # Used for comparison purposes\n",
    "    fit_span = period[model_window.stop - 1] - period[model_window.start]\n",
    "\n",
    "    # stop is always exclusive\n",
    "    while model_window.stop + peek_size < period.shape[0] or models is None:\n",
    "    #while model_window.stop + peek_size < period.shape[0]:\n",
    "        print(\"model_window.stop: {}\".format(model_window.stop))\n",
    "        print(\"model_window type: {}\".format(type(model_window)))\n",
    "        print(\"peek_size: {}\".format(peek_size))\n",
    "        print(\"period_shape[0]: {}\".format(period.shape[0]))\n",
    "        print(\"period_shape type: {}\".format(type(period)))\n",
    "        print(\"models is None: {}\".format(models is None))\n",
    "        num_coefs = determine_num_coefs(period[model_window], coef_min,\n",
    "                                        coef_mid, coef_max, num_obs_fact)\n",
    "        #print(\"num_coefs type, val: {} {}\".format(type(num_coefs), num_coefs))\n",
    "        #num_coefs = 4\n",
    "        \n",
    "        peek_window = slice(model_window.stop, model_window.stop + peek_size)\n",
    "\n",
    "        # Used for comparison against fit_span\n",
    "        model_span = period[model_window.stop - 1] - period[model_window.start]\n",
    "\n",
    "        #log.debug('Detecting change for %s', peek_window)\n",
    "\n",
    "        # If we have less than 24 observations covered by the model_window\n",
    "        # or it the first iteration, then we always fit a new window\n",
    "        if not models or model_window.stop - model_window.start < 24:\n",
    "            fit_span = period[model_window.stop - 1] - period[model_window.start]\n",
    "\n",
    "            fit_window = model_window\n",
    "            #log.debug('Retrain models, less than 24 samples')\n",
    "            #models = [fitter_fn(period[fit_window], spectrum,\n",
    "            #                    fit_max_iter, avg_days_yr, num_coefs)\n",
    "            #          for spectrum in spectral_obs[:, fit_window]]\n",
    "            models = []\n",
    "            for spectrum in spectral_obs[:, fit_window]:\n",
    "                models.append(fitter_fn(period[fit_window], spectrum, fit_max_iter, avg_days_yr, num_coefs))\n",
    "\n",
    "            # residuals = np.array([calc_residuals(period[peek_window],\n",
    "            #                                      spectral_obs[idx, peek_window],\n",
    "            #                                      models[idx], avg_days_yr)\n",
    "            #                       for idx in range(observations.shape[0])])\n",
    "            _residuals = []\n",
    "            for idx in range(observations.shape[0]):\n",
    "                _residuals.append(calc_residuals(period[peek_window],\n",
    "                                                 spectral_obs[idx, peek_window],\n",
    "                                                 models[idx], avg_days_yr))\n",
    "            residuals = np.array(_residuals)\n",
    "\n",
    "            #comp_rmse = [models[idx].rmse for idx in detection_bands]\n",
    "            comp_rmse = []\n",
    "            for idx in detection_bands:\n",
    "                comp_rmse.append(models[idx].rmse)\n",
    "\n",
    "\n",
    "        # More than 24 points\n",
    "        else:\n",
    "            # If the number of observations that the current fitted models\n",
    "            # expand past a threshold, then we need to fit new ones.\n",
    "            # The 1.33 should be parametrized at some point.\n",
    "            if model_span >= 1.33 * fit_span:\n",
    "                #log.debug('Retrain models, model_span: %s fit_span: %s', model_span, fit_span)\n",
    "                fit_span = period[model_window.stop - 1] - period[model_window.start]\n",
    "                fit_window = model_window\n",
    "\n",
    "                #models = [fitter_fn(period[fit_window], spectrum,\n",
    "                #                    fit_max_iter, avg_days_yr, num_coefs)\n",
    "                #          for spectrum in spectral_obs[:, fit_window]]\n",
    "                models = []\n",
    "                for spectrum in spectral_obs[:, fit_window]:\n",
    "                    models.append(fitter_fn(period[fit_window],\n",
    "                                            spectrum,\n",
    "                                            fit_max_iter,\n",
    "                                            avg_days_yr,\n",
    "                                            num_coefs))\n",
    "\n",
    "\n",
    "            # residuals = np.array([calc_residuals(period[peek_window],\n",
    "            #                                      spectral_obs[idx, peek_window],\n",
    "            #                                      models[idx], avg_days_yr)\n",
    "            #                       for idx in range(observations.shape[0])])\n",
    "            _residuals = []\n",
    "            for idx in range(observations.shape[0]):\n",
    "                _residuals.append(calc_residuals(period[peek_window],\n",
    "                                                 spectral_obs[idx, peek_window],\n",
    "                                                 models[idx], avg_days_yr))\n",
    "            residuals = np.array(_residuals)\n",
    "\n",
    "\n",
    "            # We want to use the closest residual values to the peek_window\n",
    "            # values based on seasonality.\n",
    "            closest_indexes = find_closest_doy(period, peek_window.stop - 1, fit_window, 24)\n",
    "\n",
    "            # Calculate an RMSE for the seasonal residual values, using 8\n",
    "            # as the degrees of freedom.\n",
    "            # comp_rmse = [euclidean_norm(models[idx].residual[closest_indexes]) / 4\n",
    "            #              for idx in detection_bands]\n",
    "            comp_rmse = []\n",
    "            for idx in detection_bands:\n",
    "                comp_rmse.append(euclidean_norm(models[idx].residual[closest_indexes]) / 4)\n",
    "\n",
    "        # Calculate the change magnitude values for each observation in the\n",
    "        # peek_window.\n",
    "        magnitude = change_magnitude(residuals[detection_bands, :],\n",
    "                                     variogram[detection_bands],\n",
    "                                     comp_rmse)\n",
    "\n",
    "        if detect_change(magnitude, change_thresh):\n",
    "            #log.debug('Change detected at: %s', peek_window.start)\n",
    "\n",
    "            # Change was detected, return to parent method\n",
    "            change = 1\n",
    "            break\n",
    "        elif detect_outlier(magnitude[0], outlier_thresh):\n",
    "            #log.debug('Outlier detected at: %s', peek_window.start)\n",
    "\n",
    "            # Keep track of any outliers so they will be excluded from future\n",
    "            # processing steps\n",
    "            processing_mask = update_processing_mask(processing_mask,\n",
    "                                                     peek_window.start)\n",
    "\n",
    "            # Because only one value was excluded, we shouldn't need to adjust\n",
    "            # the model_window.  The location hasn't been used in\n",
    "            # processing yet. So, the next iteration can use the same windows\n",
    "            # without issue.\n",
    "            period = dates[processing_mask]\n",
    "            spectral_obs = observations[:, processing_mask]\n",
    "            continue\n",
    "\n",
    "        model_window = slice(model_window.start, model_window.stop + 1)\n",
    "    #num_coefs = determine_num_coefs(period[model_window], coef_min, coef_mid, coef_max, num_obs_fact)\n",
    "    result = results_to_changemodel(fitted_models=models,\n",
    "                                    start_day=period[model_window.start],\n",
    "                                    end_day=period[model_window.stop - 1],\n",
    "                                    break_day=period[peek_window.start],\n",
    "                                    magnitudes=np.median(residuals),\n",
    "                                    observation_count=(model_window.stop - model_window.start),\n",
    "                                    change_probability=change,\n",
    "                                    curve_qa=num_coefs)\n",
    "\n",
    "    return result, processing_mask, model_window"
   ]
  },
  {
   "cell_type": "code",
   "execution_count": 94,
   "metadata": {},
   "outputs": [
    {
     "name": "stdout",
     "output_type": "stream",
     "text": [
      "model_window.stop: 36\n",
      "model_window type: <class 'slice'>\n",
      "peek_size: 6\n",
      "period_shape[0]: 1403\n",
      "period_shape type: <class 'numpy.ndarray'>\n",
      "models is None: True\n",
      "model_window.stop: 37\n",
      "model_window type: <class 'slice'>\n",
      "peek_size: 6\n",
      "period_shape[0]: 1403\n",
      "period_shape type: <class 'numpy.ndarray'>\n",
      "models is None: False\n"
     ]
    },
    {
     "ename": "IndexError",
     "evalue": "invalid index to scalar variable.",
     "output_type": "error",
     "traceback": [
      "\u001b[0;31m---------------------------------------------------------------------------\u001b[0m",
      "\u001b[0;31mIndexError\u001b[0m                                Traceback (most recent call last)",
      "\u001b[0;32m<ipython-input-94-66bca1f5af83>\u001b[0m in \u001b[0;36m<module>\u001b[0;34m()\u001b[0m\n\u001b[0;32m----> 1\u001b[0;31m \u001b[0mlf\u001b[0m \u001b[0;34m=\u001b[0m \u001b[0mlookforward\u001b[0m\u001b[0;34m(\u001b[0m\u001b[0mdates\u001b[0m\u001b[0;34m,\u001b[0m \u001b[0mobservations\u001b[0m\u001b[0;34m,\u001b[0m \u001b[0mmodel_window\u001b[0m\u001b[0;34m,\u001b[0m \u001b[0mfitter_fn\u001b[0m\u001b[0;34m,\u001b[0m \u001b[0mprocessing_mask\u001b[0m\u001b[0;34m,\u001b[0m \u001b[0mvariogram\u001b[0m\u001b[0;34m,\u001b[0m \u001b[0mproc_params\u001b[0m\u001b[0;34m)\u001b[0m\u001b[0;34m\u001b[0m\u001b[0m\n\u001b[0m",
      "\u001b[0;31mIndexError\u001b[0m: invalid index to scalar variable."
     ]
    }
   ],
   "source": [
    "lf = lookforward(dates, observations, model_window, fitter_fn, processing_mask, variogram, proc_params)"
   ]
  },
  {
   "cell_type": "code",
   "execution_count": 67,
   "metadata": {},
   "outputs": [
    {
     "data": {
      "text/plain": [
       "array([723864, 723873, 723880, ..., 735959, 735960, 735961])"
      ]
     },
     "execution_count": 67,
     "metadata": {},
     "output_type": "execute_result"
    }
   ],
   "source": [
    "dates"
   ]
  },
  {
   "cell_type": "code",
   "execution_count": null,
   "metadata": {
    "collapsed": true
   },
   "outputs": [],
   "source": []
  }
 ],
 "metadata": {
  "kernelspec": {
   "display_name": "Python 3",
   "language": "python",
   "name": "python3"
  },
  "language_info": {
   "codemirror_mode": {
    "name": "ipython",
    "version": 3
   },
   "file_extension": ".py",
   "mimetype": "text/x-python",
   "name": "python",
   "nbconvert_exporter": "python",
   "pygments_lexer": "ipython3",
   "version": "3.5.3"
  }
 },
 "nbformat": 4,
 "nbformat_minor": 2
}
